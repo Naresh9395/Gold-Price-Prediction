{
  "nbformat": 4,
  "nbformat_minor": 0,
  "metadata": {
    "colab": {
      "name": "Car Price Prediction By Varun.ipynb",
      "provenance": [],
      "collapsed_sections": [],
      "authorship_tag": "ABX9TyPte/nf3+tDWEg/aGytGoN3",
      "include_colab_link": true
    },
    "kernelspec": {
      "name": "python3",
      "display_name": "Python 3"
    },
    "language_info": {
      "name": "python"
    }
  },
  "cells": [
    {
      "cell_type": "markdown",
      "metadata": {
        "id": "view-in-github",
        "colab_type": "text"
      },
      "source": [
        "<a href=\"https://colab.research.google.com/github/Naresh9395/Gold-Price-Prediction/blob/main/Car_Price_Prediction.ipynb\" target=\"_parent\"><img src=\"https://colab.research.google.com/assets/colab-badge.svg\" alt=\"Open In Colab\"/></a>"
      ]
    },
    {
      "cell_type": "markdown",
      "metadata": {
        "id": "TFATqnpRLOaa"
      },
      "source": [
        "Import Required Libraries\n"
      ]
    },
    {
      "cell_type": "code",
      "metadata": {
        "id": "-lD5DsC2JWVC"
      },
      "source": [
        "import numpy as np\n",
        "import pandas as pd\n",
        "import seaborn as sn\n",
        "import matplotlib.pyplot as plt"
      ],
      "execution_count": null,
      "outputs": []
    },
    {
      "cell_type": "markdown",
      "metadata": {
        "id": "6tBRk8KYL27N"
      },
      "source": [
        "Import Data Set"
      ]
    },
    {
      "cell_type": "code",
      "metadata": {
        "colab": {
          "base_uri": "https://localhost:8080/",
          "height": 35
        },
        "id": "ZQ9woX6oMmHq",
        "outputId": "523626a4-aa3d-4c1a-ecf2-a569b45ca429"
      },
      "source": [
        "pwd"
      ],
      "execution_count": null,
      "outputs": [
        {
          "output_type": "execute_result",
          "data": {
            "application/vnd.google.colaboratory.intrinsic+json": {
              "type": "string"
            },
            "text/plain": [
              "'/content'"
            ]
          },
          "metadata": {
            "tags": []
          },
          "execution_count": 39
        }
      ]
    },
    {
      "cell_type": "code",
      "metadata": {
        "id": "Xz_HHFV0L0mY"
      },
      "source": [
        "df = pd.read_csv('/content/car data.xls')"
      ],
      "execution_count": null,
      "outputs": []
    },
    {
      "cell_type": "code",
      "metadata": {
        "colab": {
          "base_uri": "https://localhost:8080/",
          "height": 204
        },
        "id": "W9S6j4wrOEK2",
        "outputId": "46cacc1a-e9e8-40a2-c4b3-ba67edf0d3e0"
      },
      "source": [
        "df.head()"
      ],
      "execution_count": null,
      "outputs": [
        {
          "output_type": "execute_result",
          "data": {
            "text/html": [
              "<div>\n",
              "<style scoped>\n",
              "    .dataframe tbody tr th:only-of-type {\n",
              "        vertical-align: middle;\n",
              "    }\n",
              "\n",
              "    .dataframe tbody tr th {\n",
              "        vertical-align: top;\n",
              "    }\n",
              "\n",
              "    .dataframe thead th {\n",
              "        text-align: right;\n",
              "    }\n",
              "</style>\n",
              "<table border=\"1\" class=\"dataframe\">\n",
              "  <thead>\n",
              "    <tr style=\"text-align: right;\">\n",
              "      <th></th>\n",
              "      <th>Car_Name</th>\n",
              "      <th>Year</th>\n",
              "      <th>Selling_Price</th>\n",
              "      <th>Present_Price</th>\n",
              "      <th>Kms_Driven</th>\n",
              "      <th>Fuel_Type</th>\n",
              "      <th>Seller_Type</th>\n",
              "      <th>Transmission</th>\n",
              "      <th>Owner</th>\n",
              "    </tr>\n",
              "  </thead>\n",
              "  <tbody>\n",
              "    <tr>\n",
              "      <th>0</th>\n",
              "      <td>ritz</td>\n",
              "      <td>2014</td>\n",
              "      <td>3.35</td>\n",
              "      <td>5.59</td>\n",
              "      <td>27000</td>\n",
              "      <td>Petrol</td>\n",
              "      <td>Dealer</td>\n",
              "      <td>Manual</td>\n",
              "      <td>0</td>\n",
              "    </tr>\n",
              "    <tr>\n",
              "      <th>1</th>\n",
              "      <td>sx4</td>\n",
              "      <td>2013</td>\n",
              "      <td>4.75</td>\n",
              "      <td>9.54</td>\n",
              "      <td>43000</td>\n",
              "      <td>Diesel</td>\n",
              "      <td>Dealer</td>\n",
              "      <td>Manual</td>\n",
              "      <td>0</td>\n",
              "    </tr>\n",
              "    <tr>\n",
              "      <th>2</th>\n",
              "      <td>ciaz</td>\n",
              "      <td>2017</td>\n",
              "      <td>7.25</td>\n",
              "      <td>9.85</td>\n",
              "      <td>6900</td>\n",
              "      <td>Petrol</td>\n",
              "      <td>Dealer</td>\n",
              "      <td>Manual</td>\n",
              "      <td>0</td>\n",
              "    </tr>\n",
              "    <tr>\n",
              "      <th>3</th>\n",
              "      <td>wagon r</td>\n",
              "      <td>2011</td>\n",
              "      <td>2.85</td>\n",
              "      <td>4.15</td>\n",
              "      <td>5200</td>\n",
              "      <td>Petrol</td>\n",
              "      <td>Dealer</td>\n",
              "      <td>Manual</td>\n",
              "      <td>0</td>\n",
              "    </tr>\n",
              "    <tr>\n",
              "      <th>4</th>\n",
              "      <td>swift</td>\n",
              "      <td>2014</td>\n",
              "      <td>4.60</td>\n",
              "      <td>6.87</td>\n",
              "      <td>42450</td>\n",
              "      <td>Diesel</td>\n",
              "      <td>Dealer</td>\n",
              "      <td>Manual</td>\n",
              "      <td>0</td>\n",
              "    </tr>\n",
              "  </tbody>\n",
              "</table>\n",
              "</div>"
            ],
            "text/plain": [
              "  Car_Name  Year  Selling_Price  ...  Seller_Type  Transmission Owner\n",
              "0     ritz  2014           3.35  ...       Dealer        Manual     0\n",
              "1      sx4  2013           4.75  ...       Dealer        Manual     0\n",
              "2     ciaz  2017           7.25  ...       Dealer        Manual     0\n",
              "3  wagon r  2011           2.85  ...       Dealer        Manual     0\n",
              "4    swift  2014           4.60  ...       Dealer        Manual     0\n",
              "\n",
              "[5 rows x 9 columns]"
            ]
          },
          "metadata": {
            "tags": []
          },
          "execution_count": 41
        }
      ]
    },
    {
      "cell_type": "code",
      "metadata": {
        "colab": {
          "base_uri": "https://localhost:8080/",
          "height": 204
        },
        "id": "WPuq73ItOEHe",
        "outputId": "b641214d-711e-4516-9627-d4dbcbc2b08e"
      },
      "source": [
        "df.tail()"
      ],
      "execution_count": null,
      "outputs": [
        {
          "output_type": "execute_result",
          "data": {
            "text/html": [
              "<div>\n",
              "<style scoped>\n",
              "    .dataframe tbody tr th:only-of-type {\n",
              "        vertical-align: middle;\n",
              "    }\n",
              "\n",
              "    .dataframe tbody tr th {\n",
              "        vertical-align: top;\n",
              "    }\n",
              "\n",
              "    .dataframe thead th {\n",
              "        text-align: right;\n",
              "    }\n",
              "</style>\n",
              "<table border=\"1\" class=\"dataframe\">\n",
              "  <thead>\n",
              "    <tr style=\"text-align: right;\">\n",
              "      <th></th>\n",
              "      <th>Car_Name</th>\n",
              "      <th>Year</th>\n",
              "      <th>Selling_Price</th>\n",
              "      <th>Present_Price</th>\n",
              "      <th>Kms_Driven</th>\n",
              "      <th>Fuel_Type</th>\n",
              "      <th>Seller_Type</th>\n",
              "      <th>Transmission</th>\n",
              "      <th>Owner</th>\n",
              "    </tr>\n",
              "  </thead>\n",
              "  <tbody>\n",
              "    <tr>\n",
              "      <th>296</th>\n",
              "      <td>city</td>\n",
              "      <td>2016</td>\n",
              "      <td>9.50</td>\n",
              "      <td>11.6</td>\n",
              "      <td>33988</td>\n",
              "      <td>Diesel</td>\n",
              "      <td>Dealer</td>\n",
              "      <td>Manual</td>\n",
              "      <td>0</td>\n",
              "    </tr>\n",
              "    <tr>\n",
              "      <th>297</th>\n",
              "      <td>brio</td>\n",
              "      <td>2015</td>\n",
              "      <td>4.00</td>\n",
              "      <td>5.9</td>\n",
              "      <td>60000</td>\n",
              "      <td>Petrol</td>\n",
              "      <td>Dealer</td>\n",
              "      <td>Manual</td>\n",
              "      <td>0</td>\n",
              "    </tr>\n",
              "    <tr>\n",
              "      <th>298</th>\n",
              "      <td>city</td>\n",
              "      <td>2009</td>\n",
              "      <td>3.35</td>\n",
              "      <td>11.0</td>\n",
              "      <td>87934</td>\n",
              "      <td>Petrol</td>\n",
              "      <td>Dealer</td>\n",
              "      <td>Manual</td>\n",
              "      <td>0</td>\n",
              "    </tr>\n",
              "    <tr>\n",
              "      <th>299</th>\n",
              "      <td>city</td>\n",
              "      <td>2017</td>\n",
              "      <td>11.50</td>\n",
              "      <td>12.5</td>\n",
              "      <td>9000</td>\n",
              "      <td>Diesel</td>\n",
              "      <td>Dealer</td>\n",
              "      <td>Manual</td>\n",
              "      <td>0</td>\n",
              "    </tr>\n",
              "    <tr>\n",
              "      <th>300</th>\n",
              "      <td>brio</td>\n",
              "      <td>2016</td>\n",
              "      <td>5.30</td>\n",
              "      <td>5.9</td>\n",
              "      <td>5464</td>\n",
              "      <td>Petrol</td>\n",
              "      <td>Dealer</td>\n",
              "      <td>Manual</td>\n",
              "      <td>0</td>\n",
              "    </tr>\n",
              "  </tbody>\n",
              "</table>\n",
              "</div>"
            ],
            "text/plain": [
              "    Car_Name  Year  Selling_Price  ...  Seller_Type  Transmission Owner\n",
              "296     city  2016           9.50  ...       Dealer        Manual     0\n",
              "297     brio  2015           4.00  ...       Dealer        Manual     0\n",
              "298     city  2009           3.35  ...       Dealer        Manual     0\n",
              "299     city  2017          11.50  ...       Dealer        Manual     0\n",
              "300     brio  2016           5.30  ...       Dealer        Manual     0\n",
              "\n",
              "[5 rows x 9 columns]"
            ]
          },
          "metadata": {
            "tags": []
          },
          "execution_count": 42
        }
      ]
    },
    {
      "cell_type": "code",
      "metadata": {
        "colab": {
          "base_uri": "https://localhost:8080/"
        },
        "id": "1EM0G8RpOED7",
        "outputId": "462d9f82-5546-44de-ff3a-d5bbfcc4a06a"
      },
      "source": [
        "df.shape"
      ],
      "execution_count": null,
      "outputs": [
        {
          "output_type": "execute_result",
          "data": {
            "text/plain": [
              "(301, 9)"
            ]
          },
          "metadata": {
            "tags": []
          },
          "execution_count": 43
        }
      ]
    },
    {
      "cell_type": "code",
      "metadata": {
        "colab": {
          "base_uri": "https://localhost:8080/"
        },
        "id": "gmYqKSSpOEBG",
        "outputId": "2f834f66-490d-476f-dd70-fd71a5f31979"
      },
      "source": [
        "df.info( )"
      ],
      "execution_count": null,
      "outputs": [
        {
          "output_type": "stream",
          "text": [
            "<class 'pandas.core.frame.DataFrame'>\n",
            "RangeIndex: 301 entries, 0 to 300\n",
            "Data columns (total 9 columns):\n",
            " #   Column         Non-Null Count  Dtype  \n",
            "---  ------         --------------  -----  \n",
            " 0   Car_Name       301 non-null    object \n",
            " 1   Year           301 non-null    int64  \n",
            " 2   Selling_Price  301 non-null    float64\n",
            " 3   Present_Price  301 non-null    float64\n",
            " 4   Kms_Driven     301 non-null    int64  \n",
            " 5   Fuel_Type      301 non-null    object \n",
            " 6   Seller_Type    301 non-null    object \n",
            " 7   Transmission   301 non-null    object \n",
            " 8   Owner          301 non-null    int64  \n",
            "dtypes: float64(2), int64(3), object(4)\n",
            "memory usage: 21.3+ KB\n"
          ],
          "name": "stdout"
        }
      ]
    },
    {
      "cell_type": "code",
      "metadata": {
        "colab": {
          "base_uri": "https://localhost:8080/"
        },
        "id": "uIBdQo7TOD-W",
        "outputId": "7f6b33a6-f023-42b0-de9f-8b10655e9de5"
      },
      "source": [
        "df.dtypes"
      ],
      "execution_count": null,
      "outputs": [
        {
          "output_type": "execute_result",
          "data": {
            "text/plain": [
              "Car_Name          object\n",
              "Year               int64\n",
              "Selling_Price    float64\n",
              "Present_Price    float64\n",
              "Kms_Driven         int64\n",
              "Fuel_Type         object\n",
              "Seller_Type       object\n",
              "Transmission      object\n",
              "Owner              int64\n",
              "dtype: object"
            ]
          },
          "metadata": {
            "tags": []
          },
          "execution_count": 45
        }
      ]
    },
    {
      "cell_type": "code",
      "metadata": {
        "colab": {
          "base_uri": "https://localhost:8080/",
          "height": 297
        },
        "id": "qcJWd56AOD8K",
        "outputId": "794a2fdd-cc8b-49e5-b7e3-d49a9a0db17e"
      },
      "source": [
        "df.describe()"
      ],
      "execution_count": null,
      "outputs": [
        {
          "output_type": "execute_result",
          "data": {
            "text/html": [
              "<div>\n",
              "<style scoped>\n",
              "    .dataframe tbody tr th:only-of-type {\n",
              "        vertical-align: middle;\n",
              "    }\n",
              "\n",
              "    .dataframe tbody tr th {\n",
              "        vertical-align: top;\n",
              "    }\n",
              "\n",
              "    .dataframe thead th {\n",
              "        text-align: right;\n",
              "    }\n",
              "</style>\n",
              "<table border=\"1\" class=\"dataframe\">\n",
              "  <thead>\n",
              "    <tr style=\"text-align: right;\">\n",
              "      <th></th>\n",
              "      <th>Year</th>\n",
              "      <th>Selling_Price</th>\n",
              "      <th>Present_Price</th>\n",
              "      <th>Kms_Driven</th>\n",
              "      <th>Owner</th>\n",
              "    </tr>\n",
              "  </thead>\n",
              "  <tbody>\n",
              "    <tr>\n",
              "      <th>count</th>\n",
              "      <td>301.000000</td>\n",
              "      <td>301.000000</td>\n",
              "      <td>301.000000</td>\n",
              "      <td>301.000000</td>\n",
              "      <td>301.000000</td>\n",
              "    </tr>\n",
              "    <tr>\n",
              "      <th>mean</th>\n",
              "      <td>2013.627907</td>\n",
              "      <td>4.661296</td>\n",
              "      <td>7.628472</td>\n",
              "      <td>36947.205980</td>\n",
              "      <td>0.043189</td>\n",
              "    </tr>\n",
              "    <tr>\n",
              "      <th>std</th>\n",
              "      <td>2.891554</td>\n",
              "      <td>5.082812</td>\n",
              "      <td>8.644115</td>\n",
              "      <td>38886.883882</td>\n",
              "      <td>0.247915</td>\n",
              "    </tr>\n",
              "    <tr>\n",
              "      <th>min</th>\n",
              "      <td>2003.000000</td>\n",
              "      <td>0.100000</td>\n",
              "      <td>0.320000</td>\n",
              "      <td>500.000000</td>\n",
              "      <td>0.000000</td>\n",
              "    </tr>\n",
              "    <tr>\n",
              "      <th>25%</th>\n",
              "      <td>2012.000000</td>\n",
              "      <td>0.900000</td>\n",
              "      <td>1.200000</td>\n",
              "      <td>15000.000000</td>\n",
              "      <td>0.000000</td>\n",
              "    </tr>\n",
              "    <tr>\n",
              "      <th>50%</th>\n",
              "      <td>2014.000000</td>\n",
              "      <td>3.600000</td>\n",
              "      <td>6.400000</td>\n",
              "      <td>32000.000000</td>\n",
              "      <td>0.000000</td>\n",
              "    </tr>\n",
              "    <tr>\n",
              "      <th>75%</th>\n",
              "      <td>2016.000000</td>\n",
              "      <td>6.000000</td>\n",
              "      <td>9.900000</td>\n",
              "      <td>48767.000000</td>\n",
              "      <td>0.000000</td>\n",
              "    </tr>\n",
              "    <tr>\n",
              "      <th>max</th>\n",
              "      <td>2018.000000</td>\n",
              "      <td>35.000000</td>\n",
              "      <td>92.600000</td>\n",
              "      <td>500000.000000</td>\n",
              "      <td>3.000000</td>\n",
              "    </tr>\n",
              "  </tbody>\n",
              "</table>\n",
              "</div>"
            ],
            "text/plain": [
              "              Year  Selling_Price  Present_Price     Kms_Driven       Owner\n",
              "count   301.000000     301.000000     301.000000     301.000000  301.000000\n",
              "mean   2013.627907       4.661296       7.628472   36947.205980    0.043189\n",
              "std       2.891554       5.082812       8.644115   38886.883882    0.247915\n",
              "min    2003.000000       0.100000       0.320000     500.000000    0.000000\n",
              "25%    2012.000000       0.900000       1.200000   15000.000000    0.000000\n",
              "50%    2014.000000       3.600000       6.400000   32000.000000    0.000000\n",
              "75%    2016.000000       6.000000       9.900000   48767.000000    0.000000\n",
              "max    2018.000000      35.000000      92.600000  500000.000000    3.000000"
            ]
          },
          "metadata": {
            "tags": []
          },
          "execution_count": 46
        }
      ]
    },
    {
      "cell_type": "code",
      "metadata": {
        "colab": {
          "base_uri": "https://localhost:8080/"
        },
        "id": "UyD9FZmeQIAU",
        "outputId": "1b7975fb-487a-4aba-8853-0b929f4df444"
      },
      "source": [
        "df.Fuel_Type.unique()"
      ],
      "execution_count": null,
      "outputs": [
        {
          "output_type": "execute_result",
          "data": {
            "text/plain": [
              "array(['Petrol', 'Diesel', 'CNG'], dtype=object)"
            ]
          },
          "metadata": {
            "tags": []
          },
          "execution_count": 47
        }
      ]
    },
    {
      "cell_type": "code",
      "metadata": {
        "colab": {
          "base_uri": "https://localhost:8080/"
        },
        "id": "zoBZigsMQIFv",
        "outputId": "59241a19-7dab-4db4-c929-2ba2ed47a4f4"
      },
      "source": [
        "df.Fuel_Type.describe()"
      ],
      "execution_count": null,
      "outputs": [
        {
          "output_type": "execute_result",
          "data": {
            "text/plain": [
              "count        301\n",
              "unique         3\n",
              "top       Petrol\n",
              "freq         239\n",
              "Name: Fuel_Type, dtype: object"
            ]
          },
          "metadata": {
            "tags": []
          },
          "execution_count": 48
        }
      ]
    },
    {
      "cell_type": "code",
      "metadata": {
        "colab": {
          "base_uri": "https://localhost:8080/"
        },
        "id": "VpIrVbpqWSlc",
        "outputId": "97880bd1-2769-4530-b576-3ebb7fbf222d"
      },
      "source": [
        "df.Fuel_Type.value_counts()"
      ],
      "execution_count": null,
      "outputs": [
        {
          "output_type": "execute_result",
          "data": {
            "text/plain": [
              "Petrol    239\n",
              "Diesel     60\n",
              "CNG         2\n",
              "Name: Fuel_Type, dtype: int64"
            ]
          },
          "metadata": {
            "tags": []
          },
          "execution_count": 49
        }
      ]
    },
    {
      "cell_type": "markdown",
      "metadata": {
        "id": "gpjCRJq2YA4V"
      },
      "source": [
        "Missing Values"
      ]
    },
    {
      "cell_type": "code",
      "metadata": {
        "colab": {
          "base_uri": "https://localhost:8080/"
        },
        "id": "Jh_4adbwWi7N",
        "outputId": "0f3e1329-c8c6-4e29-bb38-056359390f31"
      },
      "source": [
        "df.isnull().sum()"
      ],
      "execution_count": null,
      "outputs": [
        {
          "output_type": "execute_result",
          "data": {
            "text/plain": [
              "Car_Name         0\n",
              "Year             0\n",
              "Selling_Price    0\n",
              "Present_Price    0\n",
              "Kms_Driven       0\n",
              "Fuel_Type        0\n",
              "Seller_Type      0\n",
              "Transmission     0\n",
              "Owner            0\n",
              "dtype: int64"
            ]
          },
          "metadata": {
            "tags": []
          },
          "execution_count": 50
        }
      ]
    },
    {
      "cell_type": "code",
      "metadata": {
        "colab": {
          "base_uri": "https://localhost:8080/",
          "height": 343
        },
        "id": "W5zuFVpcWi3K",
        "outputId": "26af9579-3d98-49e2-ec19-f5a6b59c7124"
      },
      "source": [
        "sn.heatmap(df.isnull(), cmap = 'Oranges', yticklabels = False)"
      ],
      "execution_count": null,
      "outputs": [
        {
          "output_type": "execute_result",
          "data": {
            "text/plain": [
              "<matplotlib.axes._subplots.AxesSubplot at 0x7f9a6e4cd350>"
            ]
          },
          "metadata": {
            "tags": []
          },
          "execution_count": 51
        },
        {
          "output_type": "display_data",
          "data": {
            "image/png": "[encoded data removed]",
            "text/plain": [
              "<Figure size 432x288 with 2 Axes>"
            ]
          },
          "metadata": {
            "tags": [],
            "needs_background": "light"
          }
        }
      ]
    },
    {
      "cell_type": "markdown",
      "metadata": {
        "id": "VM-96waxdGb8"
      },
      "source": [
        "Adding new column to identify no.of year"
      ]
    },
    {
      "cell_type": "code",
      "metadata": {
        "id": "XWajw_PWWi0e"
      },
      "source": [
        "df['num_years'] = 2021 - df['Year']"
      ],
      "execution_count": null,
      "outputs": []
    },
    {
      "cell_type": "code",
      "metadata": {
        "colab": {
          "base_uri": "https://localhost:8080/",
          "height": 419
        },
        "id": "Tfrtlm9aWiyU",
        "outputId": "4f66d331-7837-45c3-cc0d-0793913b1b78"
      },
      "source": [
        "df\n"
      ],
      "execution_count": null,
      "outputs": [
        {
          "output_type": "execute_result",
          "data": {
            "text/html": [
              "<div>\n",
              "<style scoped>\n",
              "    .dataframe tbody tr th:only-of-type {\n",
              "        vertical-align: middle;\n",
              "    }\n",
              "\n",
              "    .dataframe tbody tr th {\n",
              "        vertical-align: top;\n",
              "    }\n",
              "\n",
              "    .dataframe thead th {\n",
              "        text-align: right;\n",
              "    }\n",
              "</style>\n",
              "<table border=\"1\" class=\"dataframe\">\n",
              "  <thead>\n",
              "    <tr style=\"text-align: right;\">\n",
              "      <th></th>\n",
              "      <th>Car_Name</th>\n",
              "      <th>Year</th>\n",
              "      <th>Selling_Price</th>\n",
              "      <th>Present_Price</th>\n",
              "      <th>Kms_Driven</th>\n",
              "      <th>Fuel_Type</th>\n",
              "      <th>Seller_Type</th>\n",
              "      <th>Transmission</th>\n",
              "      <th>Owner</th>\n",
              "      <th>num_years</th>\n",
              "    </tr>\n",
              "  </thead>\n",
              "  <tbody>\n",
              "    <tr>\n",
              "      <th>0</th>\n",
              "      <td>ritz</td>\n",
              "      <td>2014</td>\n",
              "      <td>3.35</td>\n",
              "      <td>5.59</td>\n",
              "      <td>27000</td>\n",
              "      <td>Petrol</td>\n",
              "      <td>Dealer</td>\n",
              "      <td>Manual</td>\n",
              "      <td>0</td>\n",
              "      <td>7</td>\n",
              "    </tr>\n",
              "    <tr>\n",
              "      <th>1</th>\n",
              "      <td>sx4</td>\n",
              "      <td>2013</td>\n",
              "      <td>4.75</td>\n",
              "      <td>9.54</td>\n",
              "      <td>43000</td>\n",
              "      <td>Diesel</td>\n",
              "      <td>Dealer</td>\n",
              "      <td>Manual</td>\n",
              "      <td>0</td>\n",
              "      <td>8</td>\n",
              "    </tr>\n",
              "    <tr>\n",
              "      <th>2</th>\n",
              "      <td>ciaz</td>\n",
              "      <td>2017</td>\n",
              "      <td>7.25</td>\n",
              "      <td>9.85</td>\n",
              "      <td>6900</td>\n",
              "      <td>Petrol</td>\n",
              "      <td>Dealer</td>\n",
              "      <td>Manual</td>\n",
              "      <td>0</td>\n",
              "      <td>4</td>\n",
              "    </tr>\n",
              "    <tr>\n",
              "      <th>3</th>\n",
              "      <td>wagon r</td>\n",
              "      <td>2011</td>\n",
              "      <td>2.85</td>\n",
              "      <td>4.15</td>\n",
              "      <td>5200</td>\n",
              "      <td>Petrol</td>\n",
              "      <td>Dealer</td>\n",
              "      <td>Manual</td>\n",
              "      <td>0</td>\n",
              "      <td>10</td>\n",
              "    </tr>\n",
              "    <tr>\n",
              "      <th>4</th>\n",
              "      <td>swift</td>\n",
              "      <td>2014</td>\n",
              "      <td>4.60</td>\n",
              "      <td>6.87</td>\n",
              "      <td>42450</td>\n",
              "      <td>Diesel</td>\n",
              "      <td>Dealer</td>\n",
              "      <td>Manual</td>\n",
              "      <td>0</td>\n",
              "      <td>7</td>\n",
              "    </tr>\n",
              "    <tr>\n",
              "      <th>...</th>\n",
              "      <td>...</td>\n",
              "      <td>...</td>\n",
              "      <td>...</td>\n",
              "      <td>...</td>\n",
              "      <td>...</td>\n",
              "      <td>...</td>\n",
              "      <td>...</td>\n",
              "      <td>...</td>\n",
              "      <td>...</td>\n",
              "      <td>...</td>\n",
              "    </tr>\n",
              "    <tr>\n",
              "      <th>296</th>\n",
              "      <td>city</td>\n",
              "      <td>2016</td>\n",
              "      <td>9.50</td>\n",
              "      <td>11.60</td>\n",
              "      <td>33988</td>\n",
              "      <td>Diesel</td>\n",
              "      <td>Dealer</td>\n",
              "      <td>Manual</td>\n",
              "      <td>0</td>\n",
              "      <td>5</td>\n",
              "    </tr>\n",
              "    <tr>\n",
              "      <th>297</th>\n",
              "      <td>brio</td>\n",
              "      <td>2015</td>\n",
              "      <td>4.00</td>\n",
              "      <td>5.90</td>\n",
              "      <td>60000</td>\n",
              "      <td>Petrol</td>\n",
              "      <td>Dealer</td>\n",
              "      <td>Manual</td>\n",
              "      <td>0</td>\n",
              "      <td>6</td>\n",
              "    </tr>\n",
              "    <tr>\n",
              "      <th>298</th>\n",
              "      <td>city</td>\n",
              "      <td>2009</td>\n",
              "      <td>3.35</td>\n",
              "      <td>11.00</td>\n",
              "      <td>87934</td>\n",
              "      <td>Petrol</td>\n",
              "      <td>Dealer</td>\n",
              "      <td>Manual</td>\n",
              "      <td>0</td>\n",
              "      <td>12</td>\n",
              "    </tr>\n",
              "    <tr>\n",
              "      <th>299</th>\n",
              "      <td>city</td>\n",
              "      <td>2017</td>\n",
              "      <td>11.50</td>\n",
              "      <td>12.50</td>\n",
              "      <td>9000</td>\n",
              "      <td>Diesel</td>\n",
              "      <td>Dealer</td>\n",
              "      <td>Manual</td>\n",
              "      <td>0</td>\n",
              "      <td>4</td>\n",
              "    </tr>\n",
              "    <tr>\n",
              "      <th>300</th>\n",
              "      <td>brio</td>\n",
              "      <td>2016</td>\n",
              "      <td>5.30</td>\n",
              "      <td>5.90</td>\n",
              "      <td>5464</td>\n",
              "      <td>Petrol</td>\n",
              "      <td>Dealer</td>\n",
              "      <td>Manual</td>\n",
              "      <td>0</td>\n",
              "      <td>5</td>\n",
              "    </tr>\n",
              "  </tbody>\n",
              "</table>\n",
              "<p>301 rows × 10 columns</p>\n",
              "</div>"
            ],
            "text/plain": [
              "    Car_Name  Year  Selling_Price  ...  Transmission  Owner num_years\n",
              "0       ritz  2014           3.35  ...        Manual      0         7\n",
              "1        sx4  2013           4.75  ...        Manual      0         8\n",
              "2       ciaz  2017           7.25  ...        Manual      0         4\n",
              "3    wagon r  2011           2.85  ...        Manual      0        10\n",
              "4      swift  2014           4.60  ...        Manual      0         7\n",
              "..       ...   ...            ...  ...           ...    ...       ...\n",
              "296     city  2016           9.50  ...        Manual      0         5\n",
              "297     brio  2015           4.00  ...        Manual      0         6\n",
              "298     city  2009           3.35  ...        Manual      0        12\n",
              "299     city  2017          11.50  ...        Manual      0         4\n",
              "300     brio  2016           5.30  ...        Manual      0         5\n",
              "\n",
              "[301 rows x 10 columns]"
            ]
          },
          "metadata": {
            "tags": []
          },
          "execution_count": 53
        }
      ]
    },
    {
      "cell_type": "code",
      "metadata": {
        "colab": {
          "base_uri": "https://localhost:8080/"
        },
        "id": "hzVGz5CjWShY",
        "outputId": "83f38aa3-7038-4886-887b-2fac922cb60d"
      },
      "source": [
        "df.shape"
      ],
      "execution_count": null,
      "outputs": [
        {
          "output_type": "execute_result",
          "data": {
            "text/plain": [
              "(301, 10)"
            ]
          },
          "metadata": {
            "tags": []
          },
          "execution_count": 54
        }
      ]
    },
    {
      "cell_type": "code",
      "metadata": {
        "colab": {
          "base_uri": "https://localhost:8080/"
        },
        "id": "OyZmHVH3WSel",
        "outputId": "47f13626-c781-42ac-e792-ecff9d0f7f5b"
      },
      "source": [
        "df.columns"
      ],
      "execution_count": null,
      "outputs": [
        {
          "output_type": "execute_result",
          "data": {
            "text/plain": [
              "Index(['Car_Name', 'Year', 'Selling_Price', 'Present_Price', 'Kms_Driven',\n",
              "       'Fuel_Type', 'Seller_Type', 'Transmission', 'Owner', 'num_years'],\n",
              "      dtype='object')"
            ]
          },
          "metadata": {
            "tags": []
          },
          "execution_count": 55
        }
      ]
    },
    {
      "cell_type": "code",
      "metadata": {
        "id": "Ax35cUmkWSbZ"
      },
      "source": [
        " df.drop(['Car_Name', 'Year'], axis = 1, inplace = True)"
      ],
      "execution_count": null,
      "outputs": []
    },
    {
      "cell_type": "code",
      "metadata": {
        "colab": {
          "base_uri": "https://localhost:8080/",
          "height": 419
        },
        "id": "lQ-Sy6EIWSZN",
        "outputId": "58fb2c01-17c1-4daf-a908-e080a5103a19"
      },
      "source": [
        "df"
      ],
      "execution_count": null,
      "outputs": [
        {
          "output_type": "execute_result",
          "data": {
            "text/html": [
              "<div>\n",
              "<style scoped>\n",
              "    .dataframe tbody tr th:only-of-type {\n",
              "        vertical-align: middle;\n",
              "    }\n",
              "\n",
              "    .dataframe tbody tr th {\n",
              "        vertical-align: top;\n",
              "    }\n",
              "\n",
              "    .dataframe thead th {\n",
              "        text-align: right;\n",
              "    }\n",
              "</style>\n",
              "<table border=\"1\" class=\"dataframe\">\n",
              "  <thead>\n",
              "    <tr style=\"text-align: right;\">\n",
              "      <th></th>\n",
              "      <th>Selling_Price</th>\n",
              "      <th>Present_Price</th>\n",
              "      <th>Kms_Driven</th>\n",
              "      <th>Fuel_Type</th>\n",
              "      <th>Seller_Type</th>\n",
              "      <th>Transmission</th>\n",
              "      <th>Owner</th>\n",
              "      <th>num_years</th>\n",
              "    </tr>\n",
              "  </thead>\n",
              "  <tbody>\n",
              "    <tr>\n",
              "      <th>0</th>\n",
              "      <td>3.35</td>\n",
              "      <td>5.59</td>\n",
              "      <td>27000</td>\n",
              "      <td>Petrol</td>\n",
              "      <td>Dealer</td>\n",
              "      <td>Manual</td>\n",
              "      <td>0</td>\n",
              "      <td>7</td>\n",
              "    </tr>\n",
              "    <tr>\n",
              "      <th>1</th>\n",
              "      <td>4.75</td>\n",
              "      <td>9.54</td>\n",
              "      <td>43000</td>\n",
              "      <td>Diesel</td>\n",
              "      <td>Dealer</td>\n",
              "      <td>Manual</td>\n",
              "      <td>0</td>\n",
              "      <td>8</td>\n",
              "    </tr>\n",
              "    <tr>\n",
              "      <th>2</th>\n",
              "      <td>7.25</td>\n",
              "      <td>9.85</td>\n",
              "      <td>6900</td>\n",
              "      <td>Petrol</td>\n",
              "      <td>Dealer</td>\n",
              "      <td>Manual</td>\n",
              "      <td>0</td>\n",
              "      <td>4</td>\n",
              "    </tr>\n",
              "    <tr>\n",
              "      <th>3</th>\n",
              "      <td>2.85</td>\n",
              "      <td>4.15</td>\n",
              "      <td>5200</td>\n",
              "      <td>Petrol</td>\n",
              "      <td>Dealer</td>\n",
              "      <td>Manual</td>\n",
              "      <td>0</td>\n",
              "      <td>10</td>\n",
              "    </tr>\n",
              "    <tr>\n",
              "      <th>4</th>\n",
              "      <td>4.60</td>\n",
              "      <td>6.87</td>\n",
              "      <td>42450</td>\n",
              "      <td>Diesel</td>\n",
              "      <td>Dealer</td>\n",
              "      <td>Manual</td>\n",
              "      <td>0</td>\n",
              "      <td>7</td>\n",
              "    </tr>\n",
              "    <tr>\n",
              "      <th>...</th>\n",
              "      <td>...</td>\n",
              "      <td>...</td>\n",
              "      <td>...</td>\n",
              "      <td>...</td>\n",
              "      <td>...</td>\n",
              "      <td>...</td>\n",
              "      <td>...</td>\n",
              "      <td>...</td>\n",
              "    </tr>\n",
              "    <tr>\n",
              "      <th>296</th>\n",
              "      <td>9.50</td>\n",
              "      <td>11.60</td>\n",
              "      <td>33988</td>\n",
              "      <td>Diesel</td>\n",
              "      <td>Dealer</td>\n",
              "      <td>Manual</td>\n",
              "      <td>0</td>\n",
              "      <td>5</td>\n",
              "    </tr>\n",
              "    <tr>\n",
              "      <th>297</th>\n",
              "      <td>4.00</td>\n",
              "      <td>5.90</td>\n",
              "      <td>60000</td>\n",
              "      <td>Petrol</td>\n",
              "      <td>Dealer</td>\n",
              "      <td>Manual</td>\n",
              "      <td>0</td>\n",
              "      <td>6</td>\n",
              "    </tr>\n",
              "    <tr>\n",
              "      <th>298</th>\n",
              "      <td>3.35</td>\n",
              "      <td>11.00</td>\n",
              "      <td>87934</td>\n",
              "      <td>Petrol</td>\n",
              "      <td>Dealer</td>\n",
              "      <td>Manual</td>\n",
              "      <td>0</td>\n",
              "      <td>12</td>\n",
              "    </tr>\n",
              "    <tr>\n",
              "      <th>299</th>\n",
              "      <td>11.50</td>\n",
              "      <td>12.50</td>\n",
              "      <td>9000</td>\n",
              "      <td>Diesel</td>\n",
              "      <td>Dealer</td>\n",
              "      <td>Manual</td>\n",
              "      <td>0</td>\n",
              "      <td>4</td>\n",
              "    </tr>\n",
              "    <tr>\n",
              "      <th>300</th>\n",
              "      <td>5.30</td>\n",
              "      <td>5.90</td>\n",
              "      <td>5464</td>\n",
              "      <td>Petrol</td>\n",
              "      <td>Dealer</td>\n",
              "      <td>Manual</td>\n",
              "      <td>0</td>\n",
              "      <td>5</td>\n",
              "    </tr>\n",
              "  </tbody>\n",
              "</table>\n",
              "<p>301 rows × 8 columns</p>\n",
              "</div>"
            ],
            "text/plain": [
              "     Selling_Price  Present_Price  Kms_Driven  ... Transmission Owner num_years\n",
              "0             3.35           5.59       27000  ...       Manual     0         7\n",
              "1             4.75           9.54       43000  ...       Manual     0         8\n",
              "2             7.25           9.85        6900  ...       Manual     0         4\n",
              "3             2.85           4.15        5200  ...       Manual     0        10\n",
              "4             4.60           6.87       42450  ...       Manual     0         7\n",
              "..             ...            ...         ...  ...          ...   ...       ...\n",
              "296           9.50          11.60       33988  ...       Manual     0         5\n",
              "297           4.00           5.90       60000  ...       Manual     0         6\n",
              "298           3.35          11.00       87934  ...       Manual     0        12\n",
              "299          11.50          12.50        9000  ...       Manual     0         4\n",
              "300           5.30           5.90        5464  ...       Manual     0         5\n",
              "\n",
              "[301 rows x 8 columns]"
            ]
          },
          "metadata": {
            "tags": []
          },
          "execution_count": 57
        }
      ]
    },
    {
      "cell_type": "markdown",
      "metadata": {
        "id": "ChQLdkSYoVKF"
      },
      "source": [
        "Exploratory Data Analysis"
      ]
    },
    {
      "cell_type": "code",
      "metadata": {
        "colab": {
          "base_uri": "https://localhost:8080/",
          "height": 562
        },
        "id": "UeLFU_MrWSVK",
        "outputId": "457b1606-af3f-45f4-b6f6-628a04589878"
      },
      "source": [
        "plt.figure(figsize=(15,5))\n",
        "plt.subplot(1,5,1)\n",
        "print(sn.countplot(df['Seller_Type']))\n",
        "plt.subplot(1,5,2)\n",
        "print(sn.countplot(df['Fuel_Type']))\n",
        "plt.subplot(1,5,3)\n",
        "print(sn.countplot(df['Transmission']))\n",
        "plt.subplot(1,5,4)\n",
        "print(sn.countplot(df['num_years']))\n",
        "plt.show()"
      ],
      "execution_count": null,
      "outputs": [
        {
          "output_type": "stream",
          "text": [
            "/usr/local/lib/python3.7/dist-packages/seaborn/_decorators.py:43: FutureWarning: Pass the following variable as a keyword arg: x. From version 0.12, the only valid positional argument will be `data`, and passing other arguments without an explicit keyword will result in an error or misinterpretation.\n",
            "  FutureWarning\n",
            "/usr/local/lib/python3.7/dist-packages/seaborn/_decorators.py:43: FutureWarning: Pass the following variable as a keyword arg: x. From version 0.12, the only valid positional argument will be `data`, and passing other arguments without an explicit keyword will result in an error or misinterpretation.\n",
            "  FutureWarning\n",
            "/usr/local/lib/python3.7/dist-packages/seaborn/_decorators.py:43: FutureWarning: Pass the following variable as a keyword arg: x. From version 0.12, the only valid positional argument will be `data`, and passing other arguments without an explicit keyword will result in an error or misinterpretation.\n",
            "  FutureWarning\n",
            "/usr/local/lib/python3.7/dist-packages/seaborn/_decorators.py:43: FutureWarning: Pass the following variable as a keyword arg: x. From version 0.12, the only valid positional argument will be `data`, and passing other arguments without an explicit keyword will result in an error or misinterpretation.\n",
            "  FutureWarning\n"
          ],
          "name": "stderr"
        },
        {
          "output_type": "stream",
          "text": [
            "AxesSubplot(0.125,0.125;0.133621x0.755)\n",
            "AxesSubplot(0.285345,0.125;0.133621x0.755)\n",
            "AxesSubplot(0.44569,0.125;0.133621x0.755)\n",
            "AxesSubplot(0.606034,0.125;0.133621x0.755)\n"
          ],
          "name": "stdout"
        },
        {
          "output_type": "display_data",
          "data": {
            "image/png": "[encoded data removed]",
            "text/plain": [
              "<Figure size 1080x360 with 4 Axes>"
            ]
          },
          "metadata": {
            "tags": [],
            "needs_background": "light"
          }
        }
      ]
    },
    {
      "cell_type": "markdown",
      "metadata": {
        "id": "swPqBvEUuv3D"
      },
      "source": [
        "Creating Dummy Variables to treat Categorical Variables"
      ]
    },
    {
      "cell_type": "code",
      "metadata": {
        "id": "C2QhysCRWSTD"
      },
      "source": [
        " df = pd.get_dummies(df, drop_first= True)"
      ],
      "execution_count": null,
      "outputs": []
    },
    {
      "cell_type": "code",
      "metadata": {
        "colab": {
          "base_uri": "https://localhost:8080/",
          "height": 419
        },
        "id": "g5ZRb9fjWSPR",
        "outputId": "53d8d635-c24a-47b6-8d22-0244fd9a2940"
      },
      "source": [
        "df"
      ],
      "execution_count": null,
      "outputs": [
        {
          "output_type": "execute_result",
          "data": {
            "text/html": [
              "<div>\n",
              "<style scoped>\n",
              "    .dataframe tbody tr th:only-of-type {\n",
              "        vertical-align: middle;\n",
              "    }\n",
              "\n",
              "    .dataframe tbody tr th {\n",
              "        vertical-align: top;\n",
              "    }\n",
              "\n",
              "    .dataframe thead th {\n",
              "        text-align: right;\n",
              "    }\n",
              "</style>\n",
              "<table border=\"1\" class=\"dataframe\">\n",
              "  <thead>\n",
              "    <tr style=\"text-align: right;\">\n",
              "      <th></th>\n",
              "      <th>Selling_Price</th>\n",
              "      <th>Present_Price</th>\n",
              "      <th>Kms_Driven</th>\n",
              "      <th>Owner</th>\n",
              "      <th>num_years</th>\n",
              "      <th>Fuel_Type_Diesel</th>\n",
              "      <th>Fuel_Type_Petrol</th>\n",
              "      <th>Seller_Type_Individual</th>\n",
              "      <th>Transmission_Manual</th>\n",
              "    </tr>\n",
              "  </thead>\n",
              "  <tbody>\n",
              "    <tr>\n",
              "      <th>0</th>\n",
              "      <td>3.35</td>\n",
              "      <td>5.59</td>\n",
              "      <td>27000</td>\n",
              "      <td>0</td>\n",
              "      <td>7</td>\n",
              "      <td>0</td>\n",
              "      <td>1</td>\n",
              "      <td>0</td>\n",
              "      <td>1</td>\n",
              "    </tr>\n",
              "    <tr>\n",
              "      <th>1</th>\n",
              "      <td>4.75</td>\n",
              "      <td>9.54</td>\n",
              "      <td>43000</td>\n",
              "      <td>0</td>\n",
              "      <td>8</td>\n",
              "      <td>1</td>\n",
              "      <td>0</td>\n",
              "      <td>0</td>\n",
              "      <td>1</td>\n",
              "    </tr>\n",
              "    <tr>\n",
              "      <th>2</th>\n",
              "      <td>7.25</td>\n",
              "      <td>9.85</td>\n",
              "      <td>6900</td>\n",
              "      <td>0</td>\n",
              "      <td>4</td>\n",
              "      <td>0</td>\n",
              "      <td>1</td>\n",
              "      <td>0</td>\n",
              "      <td>1</td>\n",
              "    </tr>\n",
              "    <tr>\n",
              "      <th>3</th>\n",
              "      <td>2.85</td>\n",
              "      <td>4.15</td>\n",
              "      <td>5200</td>\n",
              "      <td>0</td>\n",
              "      <td>10</td>\n",
              "      <td>0</td>\n",
              "      <td>1</td>\n",
              "      <td>0</td>\n",
              "      <td>1</td>\n",
              "    </tr>\n",
              "    <tr>\n",
              "      <th>4</th>\n",
              "      <td>4.60</td>\n",
              "      <td>6.87</td>\n",
              "      <td>42450</td>\n",
              "      <td>0</td>\n",
              "      <td>7</td>\n",
              "      <td>1</td>\n",
              "      <td>0</td>\n",
              "      <td>0</td>\n",
              "      <td>1</td>\n",
              "    </tr>\n",
              "    <tr>\n",
              "      <th>...</th>\n",
              "      <td>...</td>\n",
              "      <td>...</td>\n",
              "      <td>...</td>\n",
              "      <td>...</td>\n",
              "      <td>...</td>\n",
              "      <td>...</td>\n",
              "      <td>...</td>\n",
              "      <td>...</td>\n",
              "      <td>...</td>\n",
              "    </tr>\n",
              "    <tr>\n",
              "      <th>296</th>\n",
              "      <td>9.50</td>\n",
              "      <td>11.60</td>\n",
              "      <td>33988</td>\n",
              "      <td>0</td>\n",
              "      <td>5</td>\n",
              "      <td>1</td>\n",
              "      <td>0</td>\n",
              "      <td>0</td>\n",
              "      <td>1</td>\n",
              "    </tr>\n",
              "    <tr>\n",
              "      <th>297</th>\n",
              "      <td>4.00</td>\n",
              "      <td>5.90</td>\n",
              "      <td>60000</td>\n",
              "      <td>0</td>\n",
              "      <td>6</td>\n",
              "      <td>0</td>\n",
              "      <td>1</td>\n",
              "      <td>0</td>\n",
              "      <td>1</td>\n",
              "    </tr>\n",
              "    <tr>\n",
              "      <th>298</th>\n",
              "      <td>3.35</td>\n",
              "      <td>11.00</td>\n",
              "      <td>87934</td>\n",
              "      <td>0</td>\n",
              "      <td>12</td>\n",
              "      <td>0</td>\n",
              "      <td>1</td>\n",
              "      <td>0</td>\n",
              "      <td>1</td>\n",
              "    </tr>\n",
              "    <tr>\n",
              "      <th>299</th>\n",
              "      <td>11.50</td>\n",
              "      <td>12.50</td>\n",
              "      <td>9000</td>\n",
              "      <td>0</td>\n",
              "      <td>4</td>\n",
              "      <td>1</td>\n",
              "      <td>0</td>\n",
              "      <td>0</td>\n",
              "      <td>1</td>\n",
              "    </tr>\n",
              "    <tr>\n",
              "      <th>300</th>\n",
              "      <td>5.30</td>\n",
              "      <td>5.90</td>\n",
              "      <td>5464</td>\n",
              "      <td>0</td>\n",
              "      <td>5</td>\n",
              "      <td>0</td>\n",
              "      <td>1</td>\n",
              "      <td>0</td>\n",
              "      <td>1</td>\n",
              "    </tr>\n",
              "  </tbody>\n",
              "</table>\n",
              "<p>301 rows × 9 columns</p>\n",
              "</div>"
            ],
            "text/plain": [
              "     Selling_Price  Present_Price  ...  Seller_Type_Individual  Transmission_Manual\n",
              "0             3.35           5.59  ...                       0                    1\n",
              "1             4.75           9.54  ...                       0                    1\n",
              "2             7.25           9.85  ...                       0                    1\n",
              "3             2.85           4.15  ...                       0                    1\n",
              "4             4.60           6.87  ...                       0                    1\n",
              "..             ...            ...  ...                     ...                  ...\n",
              "296           9.50          11.60  ...                       0                    1\n",
              "297           4.00           5.90  ...                       0                    1\n",
              "298           3.35          11.00  ...                       0                    1\n",
              "299          11.50          12.50  ...                       0                    1\n",
              "300           5.30           5.90  ...                       0                    1\n",
              "\n",
              "[301 rows x 9 columns]"
            ]
          },
          "metadata": {
            "tags": []
          },
          "execution_count": 60
        }
      ]
    },
    {
      "cell_type": "markdown",
      "metadata": {
        "id": "3GvvzSFfwXZU"
      },
      "source": [
        "Correlation Using Heat map"
      ]
    },
    {
      "cell_type": "code",
      "metadata": {
        "colab": {
          "base_uri": "https://localhost:8080/",
          "height": 348
        },
        "id": "uziqJHbUWSMS",
        "outputId": "cdb044db-cba0-41ae-96a9-8086a951f81b"
      },
      "source": [
        "df.corr()"
      ],
      "execution_count": null,
      "outputs": [
        {
          "output_type": "execute_result",
          "data": {
            "text/html": [
              "<div>\n",
              "<style scoped>\n",
              "    .dataframe tbody tr th:only-of-type {\n",
              "        vertical-align: middle;\n",
              "    }\n",
              "\n",
              "    .dataframe tbody tr th {\n",
              "        vertical-align: top;\n",
              "    }\n",
              "\n",
              "    .dataframe thead th {\n",
              "        text-align: right;\n",
              "    }\n",
              "</style>\n",
              "<table border=\"1\" class=\"dataframe\">\n",
              "  <thead>\n",
              "    <tr style=\"text-align: right;\">\n",
              "      <th></th>\n",
              "      <th>Selling_Price</th>\n",
              "      <th>Present_Price</th>\n",
              "      <th>Kms_Driven</th>\n",
              "      <th>Owner</th>\n",
              "      <th>num_years</th>\n",
              "      <th>Fuel_Type_Diesel</th>\n",
              "      <th>Fuel_Type_Petrol</th>\n",
              "      <th>Seller_Type_Individual</th>\n",
              "      <th>Transmission_Manual</th>\n",
              "    </tr>\n",
              "  </thead>\n",
              "  <tbody>\n",
              "    <tr>\n",
              "      <th>Selling_Price</th>\n",
              "      <td>1.000000</td>\n",
              "      <td>0.878983</td>\n",
              "      <td>0.029187</td>\n",
              "      <td>-0.088344</td>\n",
              "      <td>-0.236141</td>\n",
              "      <td>0.552339</td>\n",
              "      <td>-0.540571</td>\n",
              "      <td>-0.550724</td>\n",
              "      <td>-0.367128</td>\n",
              "    </tr>\n",
              "    <tr>\n",
              "      <th>Present_Price</th>\n",
              "      <td>0.878983</td>\n",
              "      <td>1.000000</td>\n",
              "      <td>0.203647</td>\n",
              "      <td>0.008057</td>\n",
              "      <td>0.047584</td>\n",
              "      <td>0.473306</td>\n",
              "      <td>-0.465244</td>\n",
              "      <td>-0.512030</td>\n",
              "      <td>-0.348715</td>\n",
              "    </tr>\n",
              "    <tr>\n",
              "      <th>Kms_Driven</th>\n",
              "      <td>0.029187</td>\n",
              "      <td>0.203647</td>\n",
              "      <td>1.000000</td>\n",
              "      <td>0.089216</td>\n",
              "      <td>0.524342</td>\n",
              "      <td>0.172515</td>\n",
              "      <td>-0.172874</td>\n",
              "      <td>-0.101419</td>\n",
              "      <td>-0.162510</td>\n",
              "    </tr>\n",
              "    <tr>\n",
              "      <th>Owner</th>\n",
              "      <td>-0.088344</td>\n",
              "      <td>0.008057</td>\n",
              "      <td>0.089216</td>\n",
              "      <td>1.000000</td>\n",
              "      <td>0.182104</td>\n",
              "      <td>-0.053469</td>\n",
              "      <td>0.055687</td>\n",
              "      <td>0.124269</td>\n",
              "      <td>-0.050316</td>\n",
              "    </tr>\n",
              "    <tr>\n",
              "      <th>num_years</th>\n",
              "      <td>-0.236141</td>\n",
              "      <td>0.047584</td>\n",
              "      <td>0.524342</td>\n",
              "      <td>0.182104</td>\n",
              "      <td>1.000000</td>\n",
              "      <td>-0.064315</td>\n",
              "      <td>0.059959</td>\n",
              "      <td>0.039896</td>\n",
              "      <td>-0.000394</td>\n",
              "    </tr>\n",
              "    <tr>\n",
              "      <th>Fuel_Type_Diesel</th>\n",
              "      <td>0.552339</td>\n",
              "      <td>0.473306</td>\n",
              "      <td>0.172515</td>\n",
              "      <td>-0.053469</td>\n",
              "      <td>-0.064315</td>\n",
              "      <td>1.000000</td>\n",
              "      <td>-0.979648</td>\n",
              "      <td>-0.350467</td>\n",
              "      <td>-0.098643</td>\n",
              "    </tr>\n",
              "    <tr>\n",
              "      <th>Fuel_Type_Petrol</th>\n",
              "      <td>-0.540571</td>\n",
              "      <td>-0.465244</td>\n",
              "      <td>-0.172874</td>\n",
              "      <td>0.055687</td>\n",
              "      <td>0.059959</td>\n",
              "      <td>-0.979648</td>\n",
              "      <td>1.000000</td>\n",
              "      <td>0.358321</td>\n",
              "      <td>0.091013</td>\n",
              "    </tr>\n",
              "    <tr>\n",
              "      <th>Seller_Type_Individual</th>\n",
              "      <td>-0.550724</td>\n",
              "      <td>-0.512030</td>\n",
              "      <td>-0.101419</td>\n",
              "      <td>0.124269</td>\n",
              "      <td>0.039896</td>\n",
              "      <td>-0.350467</td>\n",
              "      <td>0.358321</td>\n",
              "      <td>1.000000</td>\n",
              "      <td>0.063240</td>\n",
              "    </tr>\n",
              "    <tr>\n",
              "      <th>Transmission_Manual</th>\n",
              "      <td>-0.367128</td>\n",
              "      <td>-0.348715</td>\n",
              "      <td>-0.162510</td>\n",
              "      <td>-0.050316</td>\n",
              "      <td>-0.000394</td>\n",
              "      <td>-0.098643</td>\n",
              "      <td>0.091013</td>\n",
              "      <td>0.063240</td>\n",
              "      <td>1.000000</td>\n",
              "    </tr>\n",
              "  </tbody>\n",
              "</table>\n",
              "</div>"
            ],
            "text/plain": [
              "                        Selling_Price  ...  Transmission_Manual\n",
              "Selling_Price                1.000000  ...            -0.367128\n",
              "Present_Price                0.878983  ...            -0.348715\n",
              "Kms_Driven                   0.029187  ...            -0.162510\n",
              "Owner                       -0.088344  ...            -0.050316\n",
              "num_years                   -0.236141  ...            -0.000394\n",
              "Fuel_Type_Diesel             0.552339  ...            -0.098643\n",
              "Fuel_Type_Petrol            -0.540571  ...             0.091013\n",
              "Seller_Type_Individual      -0.550724  ...             0.063240\n",
              "Transmission_Manual         -0.367128  ...             1.000000\n",
              "\n",
              "[9 rows x 9 columns]"
            ]
          },
          "metadata": {
            "tags": []
          },
          "execution_count": 61
        }
      ]
    },
    {
      "cell_type": "code",
      "metadata": {
        "colab": {
          "base_uri": "https://localhost:8080/",
          "height": 713
        },
        "id": "ZXnv6Tdly8f6",
        "outputId": "681327bf-0089-4e5a-c32a-f95e35a52b23"
      },
      "source": [
        "plt.figure(figsize=(10,10))\n",
        "sn.heatmap(df.corr(), cmap='Oranges', annot= True, fmt='.2f', annot_kws= {'size':10})"
      ],
      "execution_count": null,
      "outputs": [
        {
          "output_type": "execute_result",
          "data": {
            "text/plain": [
              "<matplotlib.axes._subplots.AxesSubplot at 0x7f9a6e208210>"
            ]
          },
          "metadata": {
            "tags": []
          },
          "execution_count": 62
        },
        {
          "output_type": "display_data",
          "data": {
            "image/png": "[encoded data removed]",
            "text/plain": [
              "<Figure size 720x720 with 2 Axes>"
            ]
          },
          "metadata": {
            "tags": [],
            "needs_background": "light"
          }
        }
      ]
    },
    {
      "cell_type": "markdown",
      "metadata": {
        "id": "34yMc3kmNYfw"
      },
      "source": [
        "y = df['Selling price']\n",
        "x = df.drop(['Selling_Price'], axis = 1)"
      ]
    },
    {
      "cell_type": "code",
      "metadata": {
        "id": "3UAXHva-y8c1"
      },
      "source": [
        " x = df.iloc[:, 1:]"
      ],
      "execution_count": null,
      "outputs": []
    },
    {
      "cell_type": "code",
      "metadata": {
        "id": "QGxt9e2fy8Z_"
      },
      "source": [
        "y = df.iloc[:, 0]"
      ],
      "execution_count": null,
      "outputs": []
    },
    {
      "cell_type": "markdown",
      "metadata": {
        "id": "dBqFU3ds-eWo"
      },
      "source": [
        "Train_Test_Split"
      ]
    },
    {
      "cell_type": "code",
      "metadata": {
        "id": "5_g9uk_ey8X3"
      },
      "source": [
        "from sklearn.model_selection import train_test_split\n",
        "x_train, x_test, y_train, y_test = train_test_split(x, y, test_size = 0.2, random_state = 1)"
      ],
      "execution_count": null,
      "outputs": []
    },
    {
      "cell_type": "code",
      "metadata": {
        "colab": {
          "base_uri": "https://localhost:8080/"
        },
        "id": "cY21oqn7T8-q",
        "outputId": "1fe33940-8742-413e-e740-2769f6fad981"
      },
      "source": [
        "print(len(x_train))\n",
        "print(len(x_test))\n",
        "print(len(y_train))\n",
        "print(len(y_test))"
      ],
      "execution_count": null,
      "outputs": [
        {
          "output_type": "stream",
          "text": [
            "240\n",
            "61\n",
            "240\n",
            "61\n"
          ],
          "name": "stdout"
        }
      ]
    },
    {
      "cell_type": "markdown",
      "metadata": {
        "id": "or--rHvFR-c5"
      },
      "source": [
        "Feature Scalling\n",
        "\n"
      ]
    },
    {
      "cell_type": "code",
      "metadata": {
        "id": "wprQy0HMy8Tw"
      },
      "source": [
        "from sklearn.preprocessing import StandardScaler\n",
        "sdscaler = StandardScaler()\n",
        "x_train = sdscaler.fit_transform(x_train)\n",
        "x_test = sdscaler.fit_transform(x_test)"
      ],
      "execution_count": null,
      "outputs": []
    },
    {
      "cell_type": "code",
      "metadata": {
        "colab": {
          "base_uri": "https://localhost:8080/"
        },
        "id": "eDlVHBZcWSI-",
        "outputId": "dd3b340c-cf7c-4b0d-cd2d-32ef0d3cb82b"
      },
      "source": [
        "x_test"
      ],
      "execution_count": null,
      "outputs": [
        {
          "output_type": "execute_result",
          "data": {
            "text/plain": [
              "array([[ 1.25229390e-01, -8.86656252e-01, -2.56632451e-01,\n",
              "        -9.37084310e-01, -4.94871659e-01,  5.20416500e-01,\n",
              "        -7.51067616e-01, -2.13200716e+00],\n",
              "       [-3.71023931e-01, -2.37295131e-01, -2.56632451e-01,\n",
              "         2.21607776e-01, -4.94871659e-01,  5.20416500e-01,\n",
              "        -7.51067616e-01,  4.69041576e-01],\n",
              "       [-8.51244451e-01, -1.28037571e+00, -2.56632451e-01,\n",
              "         9.94069167e-01, -4.94871659e-01,  5.20416500e-01,\n",
              "         1.33143805e+00,  4.69041576e-01],\n",
              "       [-3.92655486e-01, -8.89220492e-01, -2.56632451e-01,\n",
              "        -9.37084310e-01, -4.94871659e-01,  5.20416500e-01,\n",
              "        -7.51067616e-01,  4.69041576e-01],\n",
              "       [-7.65481698e-01, -8.89220492e-01, -2.56632451e-01,\n",
              "         2.21607776e-01, -4.94871659e-01,  5.20416500e-01,\n",
              "         1.33143805e+00,  4.69041576e-01],\n",
              "       [-4.90954945e-02, -9.98787414e-01, -2.56632451e-01,\n",
              "        -1.32331501e+00, -4.94871659e-01,  5.20416500e-01,\n",
              "        -7.51067616e-01,  4.69041576e-01],\n",
              "       [-8.35466141e-01, -1.38902994e+00, -2.56632451e-01,\n",
              "        -1.32331501e+00, -4.94871659e-01,  5.20416500e-01,\n",
              "         1.33143805e+00,  4.69041576e-01],\n",
              "       [-2.29782601e-01,  3.27706848e-01, -2.56632451e-01,\n",
              "         9.94069167e-01, -4.94871659e-01,  5.20416500e-01,\n",
              "        -7.51067616e-01,  4.69041576e-01],\n",
              "       [ 7.74176039e-01, -6.34483685e-02, -2.56632451e-01,\n",
              "        -5.50853615e-01, -4.94871659e-01,  5.20416500e-01,\n",
              "        -7.51067616e-01,  4.69041576e-01],\n",
              "       [-8.49463029e-01, -5.41526966e-01, -2.56632451e-01,\n",
              "        -5.50853615e-01, -4.94871659e-01,  5.20416500e-01,\n",
              "         1.33143805e+00,  4.69041576e-01],\n",
              "       [ 2.39749387e-01, -6.96511355e-01, -2.56632451e-01,\n",
              "        -9.37084310e-01,  2.02072594e+00, -1.92153785e+00,\n",
              "        -7.51067616e-01,  4.69041576e-01],\n",
              "       [-1.86519491e-01,  5.01553611e-01, -2.56632451e-01,\n",
              "         2.21607776e-01, -4.94871659e-01,  5.20416500e-01,\n",
              "        -7.51067616e-01,  4.69041576e-01],\n",
              "       [-2.05606157e-01, -1.30367117e+00, -2.56632451e-01,\n",
              "        -9.37084310e-01, -4.94871659e-01,  5.20416500e-01,\n",
              "        -7.51067616e-01,  4.69041576e-01],\n",
              "       [-9.10861601e-02,  1.74939005e-01,  1.97973605e+00,\n",
              "        -1.64622919e-01, -4.94871659e-01,  5.20416500e-01,\n",
              "        -7.51067616e-01,  4.69041576e-01],\n",
              "       [-8.60915029e-01,  5.88476992e-01,  1.97973605e+00,\n",
              "         2.53899195e+00, -4.94871659e-01,  5.20416500e-01,\n",
              "         1.33143805e+00,  4.69041576e-01],\n",
              "       [-8.83819028e-01, -4.98065276e-01, -2.56632451e-01,\n",
              "        -9.37084310e-01, -4.94871659e-01,  5.20416500e-01,\n",
              "         1.33143805e+00, -2.13200716e+00],\n",
              "       [ 3.64448939e-01,  6.75400373e-01, -2.56632451e-01,\n",
              "        -5.50853615e-01,  2.02072594e+00, -1.92153785e+00,\n",
              "        -7.51067616e-01,  4.69041576e-01],\n",
              "       [ 2.39749387e-01,  4.14630229e-01, -2.56632451e-01,\n",
              "         2.21607776e-01,  2.02072594e+00, -1.92153785e+00,\n",
              "        -7.51067616e-01,  4.69041576e-01],\n",
              "       [ 2.39749387e-01,  3.20804276e-02, -2.56632451e-01,\n",
              "         2.21607776e-01, -4.94871659e-01,  5.20416500e-01,\n",
              "        -7.51067616e-01, -2.13200716e+00],\n",
              "       [ 3.64448939e-01,  4.14630229e-01, -2.56632451e-01,\n",
              "        -5.50853615e-01,  2.02072594e+00, -1.92153785e+00,\n",
              "        -7.51067616e-01,  4.69041576e-01],\n",
              "       [-1.30531937e-01, -8.37066463e-01, -2.56632451e-01,\n",
              "        -1.32331501e+00, -4.94871659e-01,  5.20416500e-01,\n",
              "         1.33143805e+00,  4.69041576e-01],\n",
              "       [ 3.03371607e-01,  1.10398394e-01, -2.56632451e-01,\n",
              "         1.38029986e+00, -4.94871659e-01,  5.20416500e-01,\n",
              "        -7.51067616e-01,  4.69041576e-01],\n",
              "       [ 1.94864223e+00,  1.93578940e+00, -2.56632451e-01,\n",
              "         1.38029986e+00, -4.94871659e-01,  5.20416500e-01,\n",
              "        -7.51067616e-01, -2.13200716e+00],\n",
              "       [ 3.08461385e-01, -8.89220492e-01, -2.56632451e-01,\n",
              "        -5.50853615e-01, -4.94871659e-01,  5.20416500e-01,\n",
              "        -7.51067616e-01, -2.13200716e+00],\n",
              "       [ 2.06316223e+00,  4.63041423e+00,  6.45247306e+00,\n",
              "         2.92522264e+00, -4.94871659e-01,  5.20416500e-01,\n",
              "         1.33143805e+00, -2.13200716e+00],\n",
              "       [-3.08674154e-01,  1.74416752e-03, -2.56632451e-01,\n",
              "        -5.50853615e-01, -4.94871659e-01, -1.92153785e+00,\n",
              "        -7.51067616e-01,  4.69041576e-01],\n",
              "       [ 4.43340493e-01,  2.28061446e+00, -2.56632451e-01,\n",
              "         1.76653056e+00, -4.94871659e-01,  5.20416500e-01,\n",
              "        -7.51067616e-01,  4.69041576e-01],\n",
              "       [-8.35466141e-01, -8.19681787e-01, -2.56632451e-01,\n",
              "        -5.50853615e-01, -4.94871659e-01,  5.20416500e-01,\n",
              "         1.33143805e+00,  4.69041576e-01],\n",
              "       [-8.91453695e-01,  1.06655559e+00, -2.56632451e-01,\n",
              "         6.07838472e-01, -4.94871659e-01,  5.20416500e-01,\n",
              "         1.33143805e+00,  4.69041576e-01],\n",
              "       [-8.22741696e-01, -2.37295131e-01, -2.56632451e-01,\n",
              "         9.94069167e-01, -4.94871659e-01,  5.20416500e-01,\n",
              "         1.33143805e+00,  4.69041576e-01],\n",
              "       [-8.82546584e-01, -2.37295131e-01, -2.56632451e-01,\n",
              "         2.21607776e-01, -4.94871659e-01,  5.20416500e-01,\n",
              "         1.33143805e+00,  4.69041576e-01],\n",
              "       [-8.91453695e-01, -1.06910059e-01, -2.56632451e-01,\n",
              "         1.38029986e+00, -4.94871659e-01,  5.20416500e-01,\n",
              "         1.33143805e+00,  4.69041576e-01],\n",
              "       [-2.31055045e-01, -3.15526175e-01, -2.56632451e-01,\n",
              "        -5.50853615e-01, -4.94871659e-01,  5.20416500e-01,\n",
              "        -7.51067616e-01,  4.69041576e-01],\n",
              "       [ 3.61936174e+00,  2.40783466e-01, -2.56632451e-01,\n",
              "        -1.64622919e-01,  2.02072594e+00, -1.92153785e+00,\n",
              "        -7.51067616e-01, -2.13200716e+00],\n",
              "       [ 2.93860398e+00,  1.97321776e-01, -2.56632451e-01,\n",
              "        -5.50853615e-01,  2.02072594e+00, -1.92153785e+00,\n",
              "        -7.51067616e-01, -2.13200716e+00],\n",
              "       [-9.61759377e-02,  1.97321776e-01, -2.56632451e-01,\n",
              "        -1.64622919e-01, -4.94871659e-01,  5.20416500e-01,\n",
              "        -7.51067616e-01,  4.69041576e-01],\n",
              "       [-9.23586045e-02, -1.99866778e-02, -2.56632451e-01,\n",
              "         6.07838472e-01, -4.94871659e-01,  5.20416500e-01,\n",
              "        -7.51067616e-01,  4.69041576e-01],\n",
              "       [-7.96020364e-01, -1.29341422e+00, -2.56632451e-01,\n",
              "        -9.37084310e-01, -4.94871659e-01,  5.20416500e-01,\n",
              "         1.33143805e+00,  4.69041576e-01],\n",
              "       [-8.83819028e-01, -4.54603585e-01,  1.97973605e+00,\n",
              "         6.07838472e-01, -4.94871659e-01,  5.20416500e-01,\n",
              "         1.33143805e+00,  4.69041576e-01],\n",
              "       [-9.23586045e-02, -1.50371750e-01, -2.56632451e-01,\n",
              "         2.21607776e-01, -4.94871659e-01,  5.20416500e-01,\n",
              "        -7.51067616e-01, -2.13200716e+00],\n",
              "       [ 7.74176039e-01,  6.12902462e-01, -2.56632451e-01,\n",
              "        -9.37084310e-01, -4.94871659e-01,  5.20416500e-01,\n",
              "        -7.51067616e-01,  4.69041576e-01],\n",
              "       [ 7.74176039e-01,  2.06065413e-02, -2.56632451e-01,\n",
              "        -9.37084310e-01,  2.02072594e+00, -1.92153785e+00,\n",
              "        -7.51067616e-01,  4.69041576e-01],\n",
              "       [-8.73639473e-01, -4.98065276e-01,  1.97973605e+00,\n",
              "         2.21607776e-01, -4.94871659e-01,  5.20416500e-01,\n",
              "         1.33143805e+00,  4.69041576e-01],\n",
              "       [-8.21790492e-02,  3.03802918e-01, -2.56632451e-01,\n",
              "        -1.64622919e-01,  2.02072594e+00, -1.92153785e+00,\n",
              "        -7.51067616e-01,  4.69041576e-01],\n",
              "       [-9.61759377e-02,  1.54463419e+00, -2.56632451e-01,\n",
              "        -1.64622919e-01,  2.02072594e+00, -1.92153785e+00,\n",
              "        -7.51067616e-01,  4.69041576e-01],\n",
              "       [-9.10861601e-02, -1.06084287e-01, -2.56632451e-01,\n",
              "        -1.64622919e-01, -4.94871659e-01,  5.20416500e-01,\n",
              "        -7.51067616e-01,  4.69041576e-01],\n",
              "       [ 3.03371607e-01,  5.45015301e-01, -2.56632451e-01,\n",
              "        -1.64622919e-01,  2.02072594e+00, -1.92153785e+00,\n",
              "        -7.51067616e-01,  4.69041576e-01],\n",
              "       [ 2.39749387e-01,  2.34750129e-02, -2.56632451e-01,\n",
              "        -5.50853615e-01, -4.94871659e-01,  5.20416500e-01,\n",
              "        -7.51067616e-01,  4.69041576e-01],\n",
              "       [ 4.16619160e-01,  2.70250493e-01, -2.56632451e-01,\n",
              "        -5.50853615e-01,  2.02072594e+00, -1.92153785e+00,\n",
              "        -7.51067616e-01,  4.69041576e-01],\n",
              "       [-6.54779034e-01, -5.98027164e-01, -2.56632451e-01,\n",
              "        -5.50853615e-01, -4.94871659e-01,  5.20416500e-01,\n",
              "         1.33143805e+00,  4.69041576e-01],\n",
              "       [-2.45051934e-01, -3.67680203e-01, -2.56632451e-01,\n",
              "        -1.64622919e-01, -4.94871659e-01,  5.20416500e-01,\n",
              "        -7.51067616e-01,  4.69041576e-01],\n",
              "       [-8.87636361e-01, -1.16737531e+00, -2.56632451e-01,\n",
              "        -1.32331501e+00, -4.94871659e-01,  5.20416500e-01,\n",
              "         1.33143805e+00,  4.69041576e-01],\n",
              "       [-3.92655486e-01, -5.10712628e-01, -2.56632451e-01,\n",
              "         6.07838472e-01, -4.94871659e-01,  5.20416500e-01,\n",
              "        -7.51067616e-01,  4.69041576e-01],\n",
              "       [-2.05606157e-01,  1.06655559e+00, -2.56632451e-01,\n",
              "        -5.50853615e-01, -4.94871659e-01,  5.20416500e-01,\n",
              "        -7.51067616e-01,  4.69041576e-01],\n",
              "       [-7.14583922e-01, -9.32682183e-01, -2.56632451e-01,\n",
              "        -5.50853615e-01, -4.94871659e-01,  5.20416500e-01,\n",
              "         1.33143805e+00,  4.69041576e-01],\n",
              "       [-8.83819028e-01,  8.49247136e-01, -2.56632451e-01,\n",
              "         3.31145334e+00, -4.94871659e-01,  5.20416500e-01,\n",
              "         1.33143805e+00,  4.69041576e-01],\n",
              "       [ 3.61936174e+00,  1.84886602e+00, -2.56632451e-01,\n",
              "        -1.64622919e-01,  2.02072594e+00, -1.92153785e+00,\n",
              "        -7.51067616e-01, -2.13200716e+00],\n",
              "       [-8.44373251e-01, -1.19345233e+00, -2.56632451e-01,\n",
              "        -1.64622919e-01, -4.94871659e-01,  5.20416500e-01,\n",
              "         1.33143805e+00,  4.69041576e-01],\n",
              "       [ 2.39749387e-01,  4.18020241e-01, -2.56632451e-01,\n",
              "        -1.64622919e-01, -4.94871659e-01,  5.20416500e-01,\n",
              "        -7.51067616e-01,  4.69041576e-01],\n",
              "       [ 4.88827251e-02, -2.99488811e-01, -2.56632451e-01,\n",
              "        -9.37084310e-01, -4.94871659e-01,  5.20416500e-01,\n",
              "        -7.51067616e-01,  4.69041576e-01],\n",
              "       [-8.90181250e-01, -5.84988657e-01, -2.56632451e-01,\n",
              "         1.38029986e+00, -4.94871659e-01,  5.20416500e-01,\n",
              "         1.33143805e+00, -2.13200716e+00]])"
            ]
          },
          "metadata": {
            "tags": []
          },
          "execution_count": 111
        }
      ]
    },
    {
      "cell_type": "code",
      "metadata": {
        "colab": {
          "base_uri": "https://localhost:8080/"
        },
        "id": "UClGkC_ED2tx",
        "outputId": "c577e849-aac1-4605-d6eb-af34adf556e1"
      },
      "source": [
        "print(x_train)"
      ],
      "execution_count": null,
      "outputs": [
        {
          "output_type": "stream",
          "text": [
            "[[-0.66673828 -0.79549554 -0.16012815 ...  0.50650222  1.36277029\n",
            "   0.37073003]\n",
            " [ 0.82054947 -0.34195293 -0.16012815 ... -1.97432499 -0.73379939\n",
            "   0.37073003]\n",
            " [ 0.19772645  0.80383893 -0.16012815 ... -1.97432499 -0.73379939\n",
            "   0.37073003]\n",
            " ...\n",
            " [ 1.24257162  0.44580285 -0.16012815 ...  0.50650222 -0.73379939\n",
            "   0.37073003]\n",
            " [ 0.19772645 -0.52955248 -0.16012815 ...  0.50650222 -0.73379939\n",
            "   0.37073003]\n",
            " [-0.61001487  2.14059611 -0.16012815 ...  0.50650222  1.36277029\n",
            "   0.37073003]]\n"
          ],
          "name": "stdout"
        }
      ]
    },
    {
      "cell_type": "markdown",
      "metadata": {
        "id": "cgasvXrJUlIP"
      },
      "source": [
        "Model (Linear Regression)"
      ]
    },
    {
      "cell_type": "code",
      "metadata": {
        "colab": {
          "base_uri": "https://localhost:8080/"
        },
        "id": "0Qzx-ZO-WSFz",
        "outputId": "e8ac735b-072b-4275-a397-8a91c054a1d1"
      },
      "source": [
        "from sklearn.linear_model import LinearRegression\n",
        "lm = LinearRegression()\n",
        "lm.fit(x_train, y_train)"
      ],
      "execution_count": null,
      "outputs": [
        {
          "output_type": "execute_result",
          "data": {
            "text/plain": [
              "LinearRegression(copy_X=True, fit_intercept=True, n_jobs=None, normalize=False)"
            ]
          },
          "metadata": {
            "tags": []
          },
          "execution_count": 69
        }
      ]
    },
    {
      "cell_type": "code",
      "metadata": {
        "id": "F9Gh8QLiVXLf"
      },
      "source": [
        "lm_y_pred = lm.predict(x_test)"
      ],
      "execution_count": null,
      "outputs": []
    },
    {
      "cell_type": "markdown",
      "metadata": {
        "id": "tFdv3AjC1gqa"
      },
      "source": [
        "Accuracy "
      ]
    },
    {
      "cell_type": "code",
      "metadata": {
        "colab": {
          "base_uri": "https://localhost:8080/"
        },
        "id": "6AgBaq1SQIJE",
        "outputId": "3fa53855-c9eb-4370-f657-cbb7df7632d0"
      },
      "source": [
        "from sklearn.metrics import r2_score\n",
        "r2_scoreLR = r2_score(lm_y_pred, y_test)\n",
        "r2_scoreLR"
      ],
      "execution_count": null,
      "outputs": [
        {
          "output_type": "execute_result",
          "data": {
            "text/plain": [
              "0.8827095939059011"
            ]
          },
          "metadata": {
            "tags": []
          },
          "execution_count": 71
        }
      ]
    },
    {
      "cell_type": "markdown",
      "metadata": {
        "id": "_-PFMWGWV9IW"
      },
      "source": [
        "Model : Support Vector Regression"
      ]
    },
    {
      "cell_type": "code",
      "metadata": {
        "colab": {
          "base_uri": "https://localhost:8080/"
        },
        "id": "9qfeNG_OQINq",
        "outputId": "e8d1f2e1-dc72-4f17-87e0-f7693f0811d6"
      },
      "source": [
        "from sklearn.svm import SVR\n",
        "svr = SVR()\n",
        "svr.fit(x_train, y_train)"
      ],
      "execution_count": null,
      "outputs": [
        {
          "output_type": "execute_result",
          "data": {
            "text/plain": [
              "SVR(C=1.0, cache_size=200, coef0=0.0, degree=3, epsilon=0.1, gamma='scale',\n",
              "    kernel='rbf', max_iter=-1, shrinking=True, tol=0.001, verbose=False)"
            ]
          },
          "metadata": {
            "tags": []
          },
          "execution_count": 72
        }
      ]
    },
    {
      "cell_type": "code",
      "metadata": {
        "id": "s4KE6AvPWrH6"
      },
      "source": [
        "svm_y_pred = svr.predict(x_test)"
      ],
      "execution_count": null,
      "outputs": []
    },
    {
      "cell_type": "code",
      "metadata": {
        "colab": {
          "base_uri": "https://localhost:8080/"
        },
        "id": "9Bjoy_shWrWz",
        "outputId": "6a0ae4e9-1147-4ee3-b2f0-3449e2166b85"
      },
      "source": [
        "r2_score(y_test, svm_y_pred)"
      ],
      "execution_count": null,
      "outputs": [
        {
          "output_type": "execute_result",
          "data": {
            "text/plain": [
              "0.7563125685223444"
            ]
          },
          "metadata": {
            "tags": []
          },
          "execution_count": 74
        }
      ]
    },
    {
      "cell_type": "code",
      "metadata": {
        "colab": {
          "base_uri": "https://localhost:8080/"
        },
        "id": "FBzwu-MrWrYj",
        "outputId": "ed226f33-4f84-44f6-b39b-49990c074174"
      },
      "source": [
        "from sklearn.svm import SVR\n",
        "svr = SVR(kernel= 'rbf', degree= 3 , gamma= 'auto')\n",
        "svr.fit(x_train, y_train)"
      ],
      "execution_count": null,
      "outputs": [
        {
          "output_type": "execute_result",
          "data": {
            "text/plain": [
              "SVR(C=1.0, cache_size=200, coef0=0.0, degree=3, epsilon=0.1, gamma='auto',\n",
              "    kernel='rbf', max_iter=-1, shrinking=True, tol=0.001, verbose=False)"
            ]
          },
          "metadata": {
            "tags": []
          },
          "execution_count": 75
        }
      ]
    },
    {
      "cell_type": "code",
      "metadata": {
        "id": "MxwPKVeJWray"
      },
      "source": [
        "svm_y_pred1 = svr.predict(x_test)"
      ],
      "execution_count": null,
      "outputs": []
    },
    {
      "cell_type": "code",
      "metadata": {
        "colab": {
          "base_uri": "https://localhost:8080/"
        },
        "id": "_hAC01X_WrdN",
        "outputId": "a9cafa58-7c05-451f-874b-eb26c00f8955"
      },
      "source": [
        "r2_scoreSVR = r2_score(y_test, svm_y_pred1)\n",
        "r2_scoreSVR"
      ],
      "execution_count": null,
      "outputs": [
        {
          "output_type": "execute_result",
          "data": {
            "text/plain": [
              "0.7563125685223444"
            ]
          },
          "metadata": {
            "tags": []
          },
          "execution_count": 117
        }
      ]
    },
    {
      "cell_type": "markdown",
      "metadata": {
        "id": "aBRnPRe-ZJRs"
      },
      "source": [
        "Hyper Parameter Tuning =Grid Search CV (Cross Validation)"
      ]
    },
    {
      "cell_type": "code",
      "metadata": {
        "colab": {
          "base_uri": "https://localhost:8080/"
        },
        "id": "l7r8Ydw7Wrf_",
        "outputId": "24386acf-58e6-4f35-f53c-56c39a6e6de3"
      },
      "source": [
        "from sklearn.model_selection import GridSearchCV\n",
        "svr1=SVR()\n",
        "paras={'C':[0.001, 0.1, 1, 2, 5 ,10, 100],\n",
        "      'degree':[1,2,3,4,5,6,7],\n",
        "      'gamma':[0.001, 0.1, 1,2 ,5, 10, 100]}\n",
        "\n",
        "gridsearch=GridSearchCV(estimator=svr1,param_grid=paras, cv=10, n_jobs=-1)\n",
        "gridsearch.fit(x_train, y_train)\n"
      ],
      "execution_count": null,
      "outputs": [
        {
          "output_type": "execute_result",
          "data": {
            "text/plain": [
              "GridSearchCV(cv=10, error_score=nan,\n",
              "             estimator=SVR(C=1.0, cache_size=200, coef0=0.0, degree=3,\n",
              "                           epsilon=0.1, gamma='scale', kernel='rbf',\n",
              "                           max_iter=-1, shrinking=True, tol=0.001,\n",
              "                           verbose=False),\n",
              "             iid='deprecated', n_jobs=-1,\n",
              "             param_grid={'C': [0.001, 0.1, 1, 2, 5, 10, 100],\n",
              "                         'degree': [1, 2, 3, 4, 5, 6, 7],\n",
              "                         'gamma': [0.001, 0.1, 1, 2, 5, 10, 100]},\n",
              "             pre_dispatch='2*n_jobs', refit=True, return_train_score=False,\n",
              "             scoring=None, verbose=0)"
            ]
          },
          "metadata": {
            "tags": []
          },
          "execution_count": 78
        }
      ]
    },
    {
      "cell_type": "code",
      "metadata": {
        "colab": {
          "base_uri": "https://localhost:8080/"
        },
        "id": "a-WdhoiI1Te0",
        "outputId": "92f8f3ff-71f8-49ac-92cc-d0010865b2eb"
      },
      "source": [
        "gridsearch.best_params_"
      ],
      "execution_count": null,
      "outputs": [
        {
          "output_type": "execute_result",
          "data": {
            "text/plain": [
              "{'C': 100, 'degree': 1, 'gamma': 0.1}"
            ]
          },
          "metadata": {
            "tags": []
          },
          "execution_count": 79
        }
      ]
    },
    {
      "cell_type": "code",
      "metadata": {
        "colab": {
          "base_uri": "https://localhost:8080/"
        },
        "id": "mjJAky6M1y78",
        "outputId": "8f0f5eee-c3ec-4ed1-eb8d-03c5fcea9dcf"
      },
      "source": [
        "from sklearn.svm import SVR\n",
        "svr = SVR(C=100, degree=1, gamma=0.001)\n",
        "svr.fit(x_train, y_train)"
      ],
      "execution_count": null,
      "outputs": [
        {
          "output_type": "execute_result",
          "data": {
            "text/plain": [
              "SVR(C=100, cache_size=200, coef0=0.0, degree=1, epsilon=0.1, gamma=0.001,\n",
              "    kernel='rbf', max_iter=-1, shrinking=True, tol=0.001, verbose=False)"
            ]
          },
          "metadata": {
            "tags": []
          },
          "execution_count": 88
        }
      ]
    },
    {
      "cell_type": "code",
      "metadata": {
        "id": "QiiH09wX17AU"
      },
      "source": [
        "y_pred = svr.predict(x_test)\n",
        "r2_scoreSVR = r2_score(y_test, y_pred)"
      ],
      "execution_count": null,
      "outputs": []
    },
    {
      "cell_type": "code",
      "metadata": {
        "colab": {
          "base_uri": "https://localhost:8080/"
        },
        "id": "ZXB538K916uj",
        "outputId": "cb97bc72-8149-4ed5-c399-73a0db4bdd47"
      },
      "source": [
        "r2_scoreSVR"
      ],
      "execution_count": null,
      "outputs": [
        {
          "output_type": "execute_result",
          "data": {
            "text/plain": [
              "0.9013314350646646"
            ]
          },
          "metadata": {
            "tags": []
          },
          "execution_count": 90
        }
      ]
    },
    {
      "cell_type": "markdown",
      "metadata": {
        "id": "f2AgwqXCccFZ"
      },
      "source": [
        "Model : Random Forest"
      ]
    },
    {
      "cell_type": "code",
      "metadata": {
        "colab": {
          "base_uri": "https://localhost:8080/"
        },
        "id": "-bGze0O3ZB9f",
        "outputId": "818a32e4-5975-47fb-924d-6cbc325e7b6b"
      },
      "source": [
        "from sklearn.ensemble import RandomForestRegressor\n",
        "random = RandomForestRegressor()\n",
        "random.fit(x_train, y_train)"
      ],
      "execution_count": null,
      "outputs": [
        {
          "output_type": "execute_result",
          "data": {
            "text/plain": [
              "RandomForestRegressor(bootstrap=True, ccp_alpha=0.0, criterion='mse',\n",
              "                      max_depth=None, max_features='auto', max_leaf_nodes=None,\n",
              "                      max_samples=None, min_impurity_decrease=0.0,\n",
              "                      min_impurity_split=None, min_samples_leaf=1,\n",
              "                      min_samples_split=2, min_weight_fraction_leaf=0.0,\n",
              "                      n_estimators=100, n_jobs=None, oob_score=False,\n",
              "                      random_state=None, verbose=0, warm_start=False)"
            ]
          },
          "metadata": {
            "tags": []
          },
          "execution_count": 80
        }
      ]
    },
    {
      "cell_type": "code",
      "metadata": {
        "id": "dXwI8wYrZB6U"
      },
      "source": [
        "Ran_y_pred = random.predict(x_test)"
      ],
      "execution_count": null,
      "outputs": []
    },
    {
      "cell_type": "code",
      "metadata": {
        "id": "4ybGmJk3ZB35"
      },
      "source": [
        "r2_scoreRF = r2_score(Ran_y_pred, y_test)"
      ],
      "execution_count": null,
      "outputs": []
    },
    {
      "cell_type": "code",
      "metadata": {
        "colab": {
          "base_uri": "https://localhost:8080/"
        },
        "id": "7GPBmYupZB0k",
        "outputId": "e5346264-0738-4a73-eb65-d695c0c50b87"
      },
      "source": [
        "r2_scoreRF "
      ],
      "execution_count": null,
      "outputs": [
        {
          "output_type": "execute_result",
          "data": {
            "text/plain": [
              "0.8155898291008201"
            ]
          },
          "metadata": {
            "tags": []
          },
          "execution_count": 83
        }
      ]
    },
    {
      "cell_type": "code",
      "metadata": {
        "colab": {
          "base_uri": "https://localhost:8080/",
          "height": 142
        },
        "id": "_OO86t2KZBx4",
        "outputId": "73248951-c0eb-44d6-b932-48b56bc0556d"
      },
      "source": [
        "pd.DataFrame({'model':['Linear Regression','Support Vector Machine', 'Random Forest Regressor'], 'R2 Score':[r2_scoreLR, r2_scoreSVR,r2_scoreRF]})"
      ],
      "execution_count": null,
      "outputs": [
        {
          "output_type": "execute_result",
          "data": {
            "text/html": [
              "<div>\n",
              "<style scoped>\n",
              "    .dataframe tbody tr th:only-of-type {\n",
              "        vertical-align: middle;\n",
              "    }\n",
              "\n",
              "    .dataframe tbody tr th {\n",
              "        vertical-align: top;\n",
              "    }\n",
              "\n",
              "    .dataframe thead th {\n",
              "        text-align: right;\n",
              "    }\n",
              "</style>\n",
              "<table border=\"1\" class=\"dataframe\">\n",
              "  <thead>\n",
              "    <tr style=\"text-align: right;\">\n",
              "      <th></th>\n",
              "      <th>model</th>\n",
              "      <th>R2 Score</th>\n",
              "    </tr>\n",
              "  </thead>\n",
              "  <tbody>\n",
              "    <tr>\n",
              "      <th>0</th>\n",
              "      <td>Linear Regression</td>\n",
              "      <td>0.882710</td>\n",
              "    </tr>\n",
              "    <tr>\n",
              "      <th>1</th>\n",
              "      <td>Support Vector Machine</td>\n",
              "      <td>0.901331</td>\n",
              "    </tr>\n",
              "    <tr>\n",
              "      <th>2</th>\n",
              "      <td>Random Forest Regressor</td>\n",
              "      <td>0.815590</td>\n",
              "    </tr>\n",
              "  </tbody>\n",
              "</table>\n",
              "</div>"
            ],
            "text/plain": [
              "                     model  R2 Score\n",
              "0        Linear Regression  0.882710\n",
              "1   Support Vector Machine  0.901331\n",
              "2  Random Forest Regressor  0.815590"
            ]
          },
          "metadata": {
            "tags": []
          },
          "execution_count": 93
        }
      ]
    },
    {
      "cell_type": "code",
      "metadata": {
        "id": "aKqpPB1w_XLy"
      },
      "source": [
        ""
      ],
      "execution_count": null,
      "outputs": []
    },
    {
      "cell_type": "code",
      "metadata": {
        "colab": {
          "base_uri": "https://localhost:8080/",
          "height": 513
        },
        "id": "pF2KlW3PZBu1",
        "outputId": "35c2fc6b-9b1d-446c-c0c1-5a1ba38e41be"
      },
      "source": [
        "plt.figure(figsize=(15,8))\n",
        "index=range(1, len(lm_y_pred)+1)\n",
        "plt.plot(index, lm_y_pred, label='Predicted value')\n",
        "plt.plot(index, y_test, label='Actual value')\n",
        "plt.title('Linear Regression Prediction')\n",
        "plt.legend()\n",
        "plt.xlabel('target indexes')\n",
        "plt.ylabel('selling price')\n",
        "plt.show()"
      ],
      "execution_count": null,
      "outputs": [
        {
          "output_type": "display_data",
          "data": {
            "image/png": "[encoded data removed]",
            "text/plain": [
              "<Figure size 1080x576 with 1 Axes>"
            ]
          },
          "metadata": {
            "tags": [],
            "needs_background": "light"
          }
        }
      ]
    },
    {
      "cell_type": "code",
      "metadata": {
        "colab": {
          "base_uri": "https://localhost:8080/",
          "height": 513
        },
        "id": "2TnzVGIfZBqx",
        "outputId": "ffd02fd8-984f-43ee-ffa9-b7346e36d932"
      },
      "source": [
        "plt.figure(figsize=(15,8))\n",
        "index=range(1, len(svm_y_pred)+1)\n",
        "plt.plot(index, svm_y_pred, label='Predicted value')\n",
        "plt.plot(index, y_test, label='Actual value')\n",
        "plt.title('SVR Prediction')\n",
        "plt.legend()\n",
        "plt.xlabel('target indexes')\n",
        "plt.ylabel('selling price')\n",
        "plt.show()"
      ],
      "execution_count": null,
      "outputs": [
        {
          "output_type": "display_data",
          "data": {
            "image/png": "[encoded data removed]",
            "text/plain": [
              "<Figure size 1080x576 with 1 Axes>"
            ]
          },
          "metadata": {
            "tags": [],
            "needs_background": "light"
          }
        }
      ]
    },
    {
      "cell_type": "code",
      "metadata": {
        "colab": {
          "base_uri": "https://localhost:8080/",
          "height": 513
        },
        "id": "poHQeuYKWrjv",
        "outputId": "6de0b8d0-5fc1-4b2b-cb2d-14f7ba637c4d"
      },
      "source": [
        "plt.figure(figsize=(15,8))\n",
        "index=range(1, len(Ran_y_pred)+1)\n",
        "plt.plot(index, Ran_y_pred, label='Predicted value')\n",
        "plt.plot(index, y_test, label='Actual value')\n",
        "plt.title('Random Forest Prediction')\n",
        "plt.legend()\n",
        "plt.xlabel('target indexes')\n",
        "plt.ylabel('selling price')\n",
        "plt.show()"
      ],
      "execution_count": null,
      "outputs": [
        {
          "output_type": "display_data",
          "data": {
            "image/png": "[encoded data removed]",
            "text/plain": [
              "<Figure size 1080x576 with 1 Axes>"
            ]
          },
          "metadata": {
            "tags": [],
            "needs_background": "light"
          }
        }
      ]
    },
    {
      "cell_type": "markdown",
      "metadata": {
        "id": "kZY686rs_plw"
      },
      "source": [
        "Dstribution Plot for SVM model which has % of accuracy"
      ]
    },
    {
      "cell_type": "code",
      "metadata": {
        "colab": {
          "base_uri": "https://localhost:8080/",
          "height": 355
        },
        "id": "-gaPwReW_jp-",
        "outputId": "e29ba068-b778-4127-a57f-04848aa455db"
      },
      "source": [
        "sn.distplot(y_test-svm_y_pred)"
      ],
      "execution_count": null,
      "outputs": [
        {
          "output_type": "stream",
          "text": [
            "/usr/local/lib/python3.7/dist-packages/seaborn/distributions.py:2557: FutureWarning: `distplot` is a deprecated function and will be removed in a future version. Please adapt your code to use either `displot` (a figure-level function with similar flexibility) or `histplot` (an axes-level function for histograms).\n",
            "  warnings.warn(msg, FutureWarning)\n"
          ],
          "name": "stderr"
        },
        {
          "output_type": "execute_result",
          "data": {
            "text/plain": [
              "<matplotlib.axes._subplots.AxesSubplot at 0x7f9a6c1a21d0>"
            ]
          },
          "metadata": {
            "tags": []
          },
          "execution_count": 94
        },
        {
          "output_type": "display_data",
          "data": {
            "image/png": "[encoded data removed]",
            "text/plain": [
              "<Figure size 432x288 with 1 Axes>"
            ]
          },
          "metadata": {
            "tags": [],
            "needs_background": "light"
          }
        }
      ]
    },
    {
      "cell_type": "markdown",
      "metadata": {
        "id": "rNBLlRemARU3"
      },
      "source": [
        "Scatter Plot for SVM"
      ]
    },
    {
      "cell_type": "code",
      "metadata": {
        "colab": {
          "base_uri": "https://localhost:8080/",
          "height": 282
        },
        "id": "WfASO2fo_kwC",
        "outputId": "face6bdc-1309-4d39-9711-e19d85ea4d07"
      },
      "source": [
        "plt.scatter(y_test,svm_y_pred)"
      ],
      "execution_count": null,
      "outputs": [
        {
          "output_type": "execute_result",
          "data": {
            "text/plain": [
              "<matplotlib.collections.PathCollection at 0x7f9a6c064e10>"
            ]
          },
          "metadata": {
            "tags": []
          },
          "execution_count": 95
        },
        {
          "output_type": "display_data",
          "data": {
            "image/png": "[encoded data removed]",
            "text/plain": [
              "<Figure size 432x288 with 1 Axes>"
            ]
          },
          "metadata": {
            "tags": [],
            "needs_background": "light"
          }
        }
      ]
    },
    {
      "cell_type": "code",
      "metadata": {
        "colab": {
          "base_uri": "https://localhost:8080/",
          "height": 282
        },
        "id": "6ZKhW-FL_kyx",
        "outputId": "a5d78106-7ee4-449a-ca9e-8cf75e74c951"
      },
      "source": [
        "plt.scatter(y_test,lm_y_pred)"
      ],
      "execution_count": null,
      "outputs": [
        {
          "output_type": "execute_result",
          "data": {
            "text/plain": [
              "<matplotlib.collections.PathCollection at 0x7f9a6c0542d0>"
            ]
          },
          "metadata": {
            "tags": []
          },
          "execution_count": 96
        },
        {
          "output_type": "display_data",
          "data": {
            "image/png": "[encoded data removed]",
            "text/plain": [
              "<Figure size 432x288 with 1 Axes>"
            ]
          },
          "metadata": {
            "tags": [],
            "needs_background": "light"
          }
        }
      ]
    },
    {
      "cell_type": "code",
      "metadata": {
        "colab": {
          "base_uri": "https://localhost:8080/"
        },
        "id": "onKcJWMF_k2S",
        "outputId": "2415378e-cf86-41da-dd6b-0e71c040244f"
      },
      "source": [
        "print(len(y_test))\n",
        "print(len(lm_y_pred))"
      ],
      "execution_count": null,
      "outputs": [
        {
          "output_type": "stream",
          "text": [
            "61\n",
            "61\n"
          ],
          "name": "stdout"
        }
      ]
    },
    {
      "cell_type": "code",
      "metadata": {
        "colab": {
          "base_uri": "https://localhost:8080/",
          "height": 282
        },
        "id": "l4Qm-fbKA6bf",
        "outputId": "c6f88d52-0dd2-4203-a972-6868dad8b518"
      },
      "source": [
        "plt.scatter(y_test,Ran_y_pred)"
      ],
      "execution_count": null,
      "outputs": [
        {
          "output_type": "execute_result",
          "data": {
            "text/plain": [
              "<matplotlib.collections.PathCollection at 0x7f9a6bf3d810>"
            ]
          },
          "metadata": {
            "tags": []
          },
          "execution_count": 99
        },
        {
          "output_type": "display_data",
          "data": {
            "image/png": "[encoded data removed]",
            "text/plain": [
              "<Figure size 432x288 with 1 Axes>"
            ]
          },
          "metadata": {
            "tags": [],
            "needs_background": "light"
          }
        }
      ]
    },
    {
      "cell_type": "markdown",
      "metadata": {
        "id": "1FxKNi7KDavW"
      },
      "source": [
        "Manual Testing"
      ]
    },
    {
      "cell_type": "code",
      "metadata": {
        "id": "8Qo2h2rSCBw-"
      },
      "source": [
        "lm_y_pred_man = (1.25229390e-01, -8.86656252e-01, -2.56632451e-01,\n",
        "        -9.37084310e-01, -4.94871659e-01,  5.20416500e-01,\n",
        "        -7.51067616e-01, -2.13200716e+00)"
      ],
      "execution_count": null,
      "outputs": []
    },
    {
      "cell_type": "code",
      "metadata": {
        "id": "rlWOWaDlA6WZ"
      },
      "source": [
        "lm_y_pred_man_asarray = np.asarray(lm_y_pred_man)"
      ],
      "execution_count": null,
      "outputs": []
    },
    {
      "cell_type": "code",
      "metadata": {
        "id": "creAB4gcA6Tv"
      },
      "source": [
        "lm_y_pred_man_reshaped = lm_y_pred_man_asarray.reshape(1,-1)"
      ],
      "execution_count": null,
      "outputs": []
    },
    {
      "cell_type": "code",
      "metadata": {
        "id": "Fo9aGLtDA6QB"
      },
      "source": [
        "lm_y_pred_man1 = lm.predict(lm_y_pred_man_reshaped)"
      ],
      "execution_count": null,
      "outputs": []
    },
    {
      "cell_type": "code",
      "metadata": {
        "colab": {
          "base_uri": "https://localhost:8080/"
        },
        "id": "W2jtTxpGDWkT",
        "outputId": "283c5f60-3cb2-43f5-93ef-c55771d58120"
      },
      "source": [
        "lm_y_pred_man1"
      ],
      "execution_count": null,
      "outputs": [
        {
          "output_type": "execute_result",
          "data": {
            "text/plain": [
              "array([7.8937592])"
            ]
          },
          "metadata": {
            "tags": []
          },
          "execution_count": 110
        }
      ]
    }
  ]
}