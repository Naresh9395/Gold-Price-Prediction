{
  "nbformat": 4,
  "nbformat_minor": 0,
  "metadata": {
    "colab": {
      "name": "GoldPrice Prediction (Random Forest) Siddh.ipynb",
      "provenance": [],
      "collapsed_sections": []
    },
    "kernelspec": {
      "name": "python3",
      "display_name": "Python 3"
    },
    "language_info": {
      "name": "python"
    }
  },
  "cells": [
    {
      "cell_type": "code",
      "metadata": {
        "id": "ugWAOeM9yp2f"
      },
      "source": [
        "import numpy as np\n",
        "import pandas as pd\n",
        "import matplotlib.pyplot as plt\n",
        "import seaborn as sns\n",
        "from sklearn.model_selection import train_test_split\n",
        "from sklearn.ensemble import RandomForestRegressor\n",
        "from sklearn import metrics\n"
      ],
      "execution_count": 32,
      "outputs": []
    },
    {
      "cell_type": "markdown",
      "metadata": {
        "id": "4cRoLT79TlWS"
      },
      "source": [
        "Data Collection and Processing"
      ]
    },
    {
      "cell_type": "code",
      "metadata": {
        "id": "5MXD23XRTrN4"
      },
      "source": [
        "gold_data = pd.read_csv('/content/gld_price_data.csv')"
      ],
      "execution_count": 35,
      "outputs": []
    },
    {
      "cell_type": "code",
      "metadata": {
        "colab": {
          "base_uri": "https://localhost:8080/",
          "height": 204
        },
        "id": "uybw3cyVT8ZV",
        "outputId": "6f055961-e480-4ec7-bf27-1cef7c3d3267"
      },
      "source": [
        "gold_data.head()"
      ],
      "execution_count": 36,
      "outputs": [
        {
          "output_type": "execute_result",
          "data": {
            "text/html": [
              "<div>\n",
              "<style scoped>\n",
              "    .dataframe tbody tr th:only-of-type {\n",
              "        vertical-align: middle;\n",
              "    }\n",
              "\n",
              "    .dataframe tbody tr th {\n",
              "        vertical-align: top;\n",
              "    }\n",
              "\n",
              "    .dataframe thead th {\n",
              "        text-align: right;\n",
              "    }\n",
              "</style>\n",
              "<table border=\"1\" class=\"dataframe\">\n",
              "  <thead>\n",
              "    <tr style=\"text-align: right;\">\n",
              "      <th></th>\n",
              "      <th>Date</th>\n",
              "      <th>SPX</th>\n",
              "      <th>GLD</th>\n",
              "      <th>USO</th>\n",
              "      <th>SLV</th>\n",
              "      <th>EUR/USD</th>\n",
              "    </tr>\n",
              "  </thead>\n",
              "  <tbody>\n",
              "    <tr>\n",
              "      <th>0</th>\n",
              "      <td>1/2/2008</td>\n",
              "      <td>1447.160034</td>\n",
              "      <td>84.860001</td>\n",
              "      <td>78.470001</td>\n",
              "      <td>15.180</td>\n",
              "      <td>1.471692</td>\n",
              "    </tr>\n",
              "    <tr>\n",
              "      <th>1</th>\n",
              "      <td>1/3/2008</td>\n",
              "      <td>1447.160034</td>\n",
              "      <td>85.570000</td>\n",
              "      <td>78.370003</td>\n",
              "      <td>15.285</td>\n",
              "      <td>1.474491</td>\n",
              "    </tr>\n",
              "    <tr>\n",
              "      <th>2</th>\n",
              "      <td>1/4/2008</td>\n",
              "      <td>1411.630005</td>\n",
              "      <td>85.129997</td>\n",
              "      <td>77.309998</td>\n",
              "      <td>15.167</td>\n",
              "      <td>1.475492</td>\n",
              "    </tr>\n",
              "    <tr>\n",
              "      <th>3</th>\n",
              "      <td>1/7/2008</td>\n",
              "      <td>1416.180054</td>\n",
              "      <td>84.769997</td>\n",
              "      <td>75.500000</td>\n",
              "      <td>15.053</td>\n",
              "      <td>1.468299</td>\n",
              "    </tr>\n",
              "    <tr>\n",
              "      <th>4</th>\n",
              "      <td>1/8/2008</td>\n",
              "      <td>1390.189941</td>\n",
              "      <td>86.779999</td>\n",
              "      <td>76.059998</td>\n",
              "      <td>15.590</td>\n",
              "      <td>1.557099</td>\n",
              "    </tr>\n",
              "  </tbody>\n",
              "</table>\n",
              "</div>"
            ],
            "text/plain": [
              "       Date          SPX        GLD        USO     SLV   EUR/USD\n",
              "0  1/2/2008  1447.160034  84.860001  78.470001  15.180  1.471692\n",
              "1  1/3/2008  1447.160034  85.570000  78.370003  15.285  1.474491\n",
              "2  1/4/2008  1411.630005  85.129997  77.309998  15.167  1.475492\n",
              "3  1/7/2008  1416.180054  84.769997  75.500000  15.053  1.468299\n",
              "4  1/8/2008  1390.189941  86.779999  76.059998  15.590  1.557099"
            ]
          },
          "metadata": {
            "tags": []
          },
          "execution_count": 36
        }
      ]
    },
    {
      "cell_type": "code",
      "metadata": {
        "colab": {
          "base_uri": "https://localhost:8080/",
          "height": 204
        },
        "id": "qwFT84grT9Sr",
        "outputId": "04e057b7-2810-4b5a-a073-988539a57d3e"
      },
      "source": [
        " gold_data.tail(5)"
      ],
      "execution_count": 37,
      "outputs": [
        {
          "output_type": "execute_result",
          "data": {
            "text/html": [
              "<div>\n",
              "<style scoped>\n",
              "    .dataframe tbody tr th:only-of-type {\n",
              "        vertical-align: middle;\n",
              "    }\n",
              "\n",
              "    .dataframe tbody tr th {\n",
              "        vertical-align: top;\n",
              "    }\n",
              "\n",
              "    .dataframe thead th {\n",
              "        text-align: right;\n",
              "    }\n",
              "</style>\n",
              "<table border=\"1\" class=\"dataframe\">\n",
              "  <thead>\n",
              "    <tr style=\"text-align: right;\">\n",
              "      <th></th>\n",
              "      <th>Date</th>\n",
              "      <th>SPX</th>\n",
              "      <th>GLD</th>\n",
              "      <th>USO</th>\n",
              "      <th>SLV</th>\n",
              "      <th>EUR/USD</th>\n",
              "    </tr>\n",
              "  </thead>\n",
              "  <tbody>\n",
              "    <tr>\n",
              "      <th>2285</th>\n",
              "      <td>5/8/2018</td>\n",
              "      <td>2671.919922</td>\n",
              "      <td>124.589996</td>\n",
              "      <td>14.0600</td>\n",
              "      <td>15.5100</td>\n",
              "      <td>1.186789</td>\n",
              "    </tr>\n",
              "    <tr>\n",
              "      <th>2286</th>\n",
              "      <td>5/9/2018</td>\n",
              "      <td>2697.790039</td>\n",
              "      <td>124.330002</td>\n",
              "      <td>14.3700</td>\n",
              "      <td>15.5300</td>\n",
              "      <td>1.184722</td>\n",
              "    </tr>\n",
              "    <tr>\n",
              "      <th>2287</th>\n",
              "      <td>5/10/2018</td>\n",
              "      <td>2723.070068</td>\n",
              "      <td>125.180000</td>\n",
              "      <td>14.4100</td>\n",
              "      <td>15.7400</td>\n",
              "      <td>1.191753</td>\n",
              "    </tr>\n",
              "    <tr>\n",
              "      <th>2288</th>\n",
              "      <td>5/14/2018</td>\n",
              "      <td>2730.129883</td>\n",
              "      <td>124.489998</td>\n",
              "      <td>14.3800</td>\n",
              "      <td>15.5600</td>\n",
              "      <td>1.193118</td>\n",
              "    </tr>\n",
              "    <tr>\n",
              "      <th>2289</th>\n",
              "      <td>5/16/2018</td>\n",
              "      <td>2725.780029</td>\n",
              "      <td>122.543800</td>\n",
              "      <td>14.4058</td>\n",
              "      <td>15.4542</td>\n",
              "      <td>1.182033</td>\n",
              "    </tr>\n",
              "  </tbody>\n",
              "</table>\n",
              "</div>"
            ],
            "text/plain": [
              "           Date          SPX         GLD      USO      SLV   EUR/USD\n",
              "2285   5/8/2018  2671.919922  124.589996  14.0600  15.5100  1.186789\n",
              "2286   5/9/2018  2697.790039  124.330002  14.3700  15.5300  1.184722\n",
              "2287  5/10/2018  2723.070068  125.180000  14.4100  15.7400  1.191753\n",
              "2288  5/14/2018  2730.129883  124.489998  14.3800  15.5600  1.193118\n",
              "2289  5/16/2018  2725.780029  122.543800  14.4058  15.4542  1.182033"
            ]
          },
          "metadata": {
            "tags": []
          },
          "execution_count": 37
        }
      ]
    },
    {
      "cell_type": "code",
      "metadata": {
        "colab": {
          "base_uri": "https://localhost:8080/"
        },
        "id": "VbINh1YxUdZ2",
        "outputId": "7ee4462d-c5d3-45c3-895c-7f872ed515e5"
      },
      "source": [
        "gold_data.shape"
      ],
      "execution_count": 39,
      "outputs": [
        {
          "output_type": "execute_result",
          "data": {
            "text/plain": [
              "(2290, 6)"
            ]
          },
          "metadata": {
            "tags": []
          },
          "execution_count": 39
        }
      ]
    },
    {
      "cell_type": "code",
      "metadata": {
        "colab": {
          "base_uri": "https://localhost:8080/"
        },
        "id": "7cnirbhfUdb4",
        "outputId": "dabd0e5a-865c-42b3-e36f-4501e3e2ef0b"
      },
      "source": [
        "gold_data.info()"
      ],
      "execution_count": 41,
      "outputs": [
        {
          "output_type": "stream",
          "text": [
            "<class 'pandas.core.frame.DataFrame'>\n",
            "RangeIndex: 2290 entries, 0 to 2289\n",
            "Data columns (total 6 columns):\n",
            " #   Column   Non-Null Count  Dtype  \n",
            "---  ------   --------------  -----  \n",
            " 0   Date     2290 non-null   object \n",
            " 1   SPX      2290 non-null   float64\n",
            " 2   GLD      2290 non-null   float64\n",
            " 3   USO      2290 non-null   float64\n",
            " 4   SLV      2290 non-null   float64\n",
            " 5   EUR/USD  2290 non-null   float64\n",
            "dtypes: float64(5), object(1)\n",
            "memory usage: 107.5+ KB\n"
          ],
          "name": "stdout"
        }
      ]
    },
    {
      "cell_type": "markdown",
      "metadata": {
        "id": "1Y6ImQr4VVFP"
      },
      "source": [
        "Checking the no.of null values"
      ]
    },
    {
      "cell_type": "code",
      "metadata": {
        "colab": {
          "base_uri": "https://localhost:8080/"
        },
        "id": "ZqhFzPOEUdhe",
        "outputId": "9ccac0d6-3515-46bc-fb13-bb7e35d65e95"
      },
      "source": [
        "gold_data.isnull().sum()"
      ],
      "execution_count": 44,
      "outputs": [
        {
          "output_type": "execute_result",
          "data": {
            "text/plain": [
              "Date       0\n",
              "SPX        0\n",
              "GLD        0\n",
              "USO        0\n",
              "SLV        0\n",
              "EUR/USD    0\n",
              "dtype: int64"
            ]
          },
          "metadata": {
            "tags": []
          },
          "execution_count": 44
        }
      ]
    },
    {
      "cell_type": "markdown",
      "metadata": {
        "id": "TbPqd6NPVzE3"
      },
      "source": [
        "Statistical Measures"
      ]
    },
    {
      "cell_type": "code",
      "metadata": {
        "colab": {
          "base_uri": "https://localhost:8080/",
          "height": 297
        },
        "id": "3_0Jt8WZUdkd",
        "outputId": "bc508235-6362-4bd8-d2b2-fdf4b6e336b7"
      },
      "source": [
        "gold_data.describe()"
      ],
      "execution_count": 45,
      "outputs": [
        {
          "output_type": "execute_result",
          "data": {
            "text/html": [
              "<div>\n",
              "<style scoped>\n",
              "    .dataframe tbody tr th:only-of-type {\n",
              "        vertical-align: middle;\n",
              "    }\n",
              "\n",
              "    .dataframe tbody tr th {\n",
              "        vertical-align: top;\n",
              "    }\n",
              "\n",
              "    .dataframe thead th {\n",
              "        text-align: right;\n",
              "    }\n",
              "</style>\n",
              "<table border=\"1\" class=\"dataframe\">\n",
              "  <thead>\n",
              "    <tr style=\"text-align: right;\">\n",
              "      <th></th>\n",
              "      <th>SPX</th>\n",
              "      <th>GLD</th>\n",
              "      <th>USO</th>\n",
              "      <th>SLV</th>\n",
              "      <th>EUR/USD</th>\n",
              "    </tr>\n",
              "  </thead>\n",
              "  <tbody>\n",
              "    <tr>\n",
              "      <th>count</th>\n",
              "      <td>2290.000000</td>\n",
              "      <td>2290.000000</td>\n",
              "      <td>2290.000000</td>\n",
              "      <td>2290.000000</td>\n",
              "      <td>2290.000000</td>\n",
              "    </tr>\n",
              "    <tr>\n",
              "      <th>mean</th>\n",
              "      <td>1654.315776</td>\n",
              "      <td>122.732875</td>\n",
              "      <td>31.842221</td>\n",
              "      <td>20.084997</td>\n",
              "      <td>1.283653</td>\n",
              "    </tr>\n",
              "    <tr>\n",
              "      <th>std</th>\n",
              "      <td>519.111540</td>\n",
              "      <td>23.283346</td>\n",
              "      <td>19.523517</td>\n",
              "      <td>7.092566</td>\n",
              "      <td>0.131547</td>\n",
              "    </tr>\n",
              "    <tr>\n",
              "      <th>min</th>\n",
              "      <td>676.530029</td>\n",
              "      <td>70.000000</td>\n",
              "      <td>7.960000</td>\n",
              "      <td>8.850000</td>\n",
              "      <td>1.039047</td>\n",
              "    </tr>\n",
              "    <tr>\n",
              "      <th>25%</th>\n",
              "      <td>1239.874969</td>\n",
              "      <td>109.725000</td>\n",
              "      <td>14.380000</td>\n",
              "      <td>15.570000</td>\n",
              "      <td>1.171313</td>\n",
              "    </tr>\n",
              "    <tr>\n",
              "      <th>50%</th>\n",
              "      <td>1551.434998</td>\n",
              "      <td>120.580002</td>\n",
              "      <td>33.869999</td>\n",
              "      <td>17.268500</td>\n",
              "      <td>1.303296</td>\n",
              "    </tr>\n",
              "    <tr>\n",
              "      <th>75%</th>\n",
              "      <td>2073.010070</td>\n",
              "      <td>132.840004</td>\n",
              "      <td>37.827501</td>\n",
              "      <td>22.882499</td>\n",
              "      <td>1.369971</td>\n",
              "    </tr>\n",
              "    <tr>\n",
              "      <th>max</th>\n",
              "      <td>2872.870117</td>\n",
              "      <td>184.589996</td>\n",
              "      <td>117.480003</td>\n",
              "      <td>47.259998</td>\n",
              "      <td>1.598798</td>\n",
              "    </tr>\n",
              "  </tbody>\n",
              "</table>\n",
              "</div>"
            ],
            "text/plain": [
              "               SPX          GLD          USO          SLV      EUR/USD\n",
              "count  2290.000000  2290.000000  2290.000000  2290.000000  2290.000000\n",
              "mean   1654.315776   122.732875    31.842221    20.084997     1.283653\n",
              "std     519.111540    23.283346    19.523517     7.092566     0.131547\n",
              "min     676.530029    70.000000     7.960000     8.850000     1.039047\n",
              "25%    1239.874969   109.725000    14.380000    15.570000     1.171313\n",
              "50%    1551.434998   120.580002    33.869999    17.268500     1.303296\n",
              "75%    2073.010070   132.840004    37.827501    22.882499     1.369971\n",
              "max    2872.870117   184.589996   117.480003    47.259998     1.598798"
            ]
          },
          "metadata": {
            "tags": []
          },
          "execution_count": 45
        }
      ]
    },
    {
      "cell_type": "markdown",
      "metadata": {
        "id": "hKGTt2o7WBLy"
      },
      "source": [
        "25% values are less than 1239.87\n",
        "50% values are less than 1551.43\n",
        "75% values are less than 2073.01"
      ]
    },
    {
      "cell_type": "markdown",
      "metadata": {
        "id": "t8DzX3iPWUUz"
      },
      "source": [
        "Corerelation between features"
      ]
    },
    {
      "cell_type": "code",
      "metadata": {
        "id": "jtIUKca3Udos"
      },
      "source": [
        "correlation = gold_data.corr()"
      ],
      "execution_count": 46,
      "outputs": []
    },
    {
      "cell_type": "code",
      "metadata": {
        "colab": {
          "base_uri": "https://localhost:8080/",
          "height": 378
        },
        "id": "FfdHgybFWRqo",
        "outputId": "5e3e4e47-019e-4947-b9cc-bbcf716733ea"
      },
      "source": [
        "plt.figure(figsize=(6,6))\n",
        "sns.heatmap(correlation, cbar=True, fmt='.1f',square=True,annot=True,annot_kws={'size':8}, cmap='PuBu')"
      ],
      "execution_count": 52,
      "outputs": [
        {
          "output_type": "execute_result",
          "data": {
            "text/plain": [
              "<matplotlib.axes._subplots.AxesSubplot at 0x7f831b0dea10>"
            ]
          },
          "metadata": {
            "tags": []
          },
          "execution_count": 52
        },
        {
          "output_type": "display_data",
          "data": {
            "image/png": "[encoded data removed]",
            "text/plain": [
              "<Figure size 432x432 with 2 Axes>"
            ]
          },
          "metadata": {
            "tags": [],
            "needs_background": "light"
          }
        }
      ]
    },
    {
      "cell_type": "markdown",
      "metadata": {
        "id": "ISUnEGMLY2tu"
      },
      "source": [
        "Correlation values of Gold "
      ]
    },
    {
      "cell_type": "code",
      "metadata": {
        "colab": {
          "base_uri": "https://localhost:8080/"
        },
        "id": "mWVlJVHOWRs9",
        "outputId": "5d9f16d8-12d9-40eb-8412-40f916ee7571"
      },
      "source": [
        "print(correlation['GLD'])"
      ],
      "execution_count": 53,
      "outputs": [
        {
          "output_type": "stream",
          "text": [
            "SPX        0.049345\n",
            "GLD        1.000000\n",
            "USO       -0.186360\n",
            "SLV        0.866632\n",
            "EUR/USD   -0.024375\n",
            "Name: GLD, dtype: float64\n"
          ],
          "name": "stdout"
        }
      ]
    },
    {
      "cell_type": "markdown",
      "metadata": {
        "id": "urPdLUeiZf-q"
      },
      "source": [
        "Checking the Distribution Plot for Gold"
      ]
    },
    {
      "cell_type": "code",
      "metadata": {
        "colab": {
          "base_uri": "https://localhost:8080/",
          "height": 356
        },
        "id": "msIlomzLWRu8",
        "outputId": "1e509b28-dc74-41d5-865f-e30cf0a9d79d"
      },
      "source": [
        "sns.distplot(gold_data['GLD'],color='red')"
      ],
      "execution_count": 55,
      "outputs": [
        {
          "output_type": "stream",
          "text": [
            "/usr/local/lib/python3.7/dist-packages/seaborn/distributions.py:2557: FutureWarning: `distplot` is a deprecated function and will be removed in a future version. Please adapt your code to use either `displot` (a figure-level function with similar flexibility) or `histplot` (an axes-level function for histograms).\n",
            "  warnings.warn(msg, FutureWarning)\n"
          ],
          "name": "stderr"
        },
        {
          "output_type": "execute_result",
          "data": {
            "text/plain": [
              "<matplotlib.axes._subplots.AxesSubplot at 0x7f8316491e50>"
            ]
          },
          "metadata": {
            "tags": []
          },
          "execution_count": 55
        },
        {
          "output_type": "display_data",
          "data": {
            "image/png": "[encoded data removed]",
            "text/plain": [
              "<Figure size 432x288 with 1 Axes>"
            ]
          },
          "metadata": {
            "tags": [],
            "needs_background": "light"
          }
        }
      ]
    },
    {
      "cell_type": "markdown",
      "metadata": {
        "id": "IllNr_jaZelU"
      },
      "source": [
        "Splitting the features and Target"
      ]
    },
    {
      "cell_type": "code",
      "metadata": {
        "id": "JPacmwYkWRzH"
      },
      "source": [
        "X = gold_data.drop(['Date', 'GLD'], axis=1)\n",
        "y = gold_data['GLD']"
      ],
      "execution_count": 57,
      "outputs": []
    },
    {
      "cell_type": "code",
      "metadata": {
        "colab": {
          "base_uri": "https://localhost:8080/",
          "height": 414
        },
        "id": "ySIiXlX0amQw",
        "outputId": "38332262-cd1d-4506-9e19-fcbddc8fd9b0"
      },
      "source": [
        "X"
      ],
      "execution_count": 58,
      "outputs": [
        {
          "output_type": "execute_result",
          "data": {
            "text/html": [
              "<div>\n",
              "<style scoped>\n",
              "    .dataframe tbody tr th:only-of-type {\n",
              "        vertical-align: middle;\n",
              "    }\n",
              "\n",
              "    .dataframe tbody tr th {\n",
              "        vertical-align: top;\n",
              "    }\n",
              "\n",
              "    .dataframe thead th {\n",
              "        text-align: right;\n",
              "    }\n",
              "</style>\n",
              "<table border=\"1\" class=\"dataframe\">\n",
              "  <thead>\n",
              "    <tr style=\"text-align: right;\">\n",
              "      <th></th>\n",
              "      <th>SPX</th>\n",
              "      <th>USO</th>\n",
              "      <th>SLV</th>\n",
              "      <th>EUR/USD</th>\n",
              "    </tr>\n",
              "  </thead>\n",
              "  <tbody>\n",
              "    <tr>\n",
              "      <th>0</th>\n",
              "      <td>1447.160034</td>\n",
              "      <td>78.470001</td>\n",
              "      <td>15.1800</td>\n",
              "      <td>1.471692</td>\n",
              "    </tr>\n",
              "    <tr>\n",
              "      <th>1</th>\n",
              "      <td>1447.160034</td>\n",
              "      <td>78.370003</td>\n",
              "      <td>15.2850</td>\n",
              "      <td>1.474491</td>\n",
              "    </tr>\n",
              "    <tr>\n",
              "      <th>2</th>\n",
              "      <td>1411.630005</td>\n",
              "      <td>77.309998</td>\n",
              "      <td>15.1670</td>\n",
              "      <td>1.475492</td>\n",
              "    </tr>\n",
              "    <tr>\n",
              "      <th>3</th>\n",
              "      <td>1416.180054</td>\n",
              "      <td>75.500000</td>\n",
              "      <td>15.0530</td>\n",
              "      <td>1.468299</td>\n",
              "    </tr>\n",
              "    <tr>\n",
              "      <th>4</th>\n",
              "      <td>1390.189941</td>\n",
              "      <td>76.059998</td>\n",
              "      <td>15.5900</td>\n",
              "      <td>1.557099</td>\n",
              "    </tr>\n",
              "    <tr>\n",
              "      <th>...</th>\n",
              "      <td>...</td>\n",
              "      <td>...</td>\n",
              "      <td>...</td>\n",
              "      <td>...</td>\n",
              "    </tr>\n",
              "    <tr>\n",
              "      <th>2285</th>\n",
              "      <td>2671.919922</td>\n",
              "      <td>14.060000</td>\n",
              "      <td>15.5100</td>\n",
              "      <td>1.186789</td>\n",
              "    </tr>\n",
              "    <tr>\n",
              "      <th>2286</th>\n",
              "      <td>2697.790039</td>\n",
              "      <td>14.370000</td>\n",
              "      <td>15.5300</td>\n",
              "      <td>1.184722</td>\n",
              "    </tr>\n",
              "    <tr>\n",
              "      <th>2287</th>\n",
              "      <td>2723.070068</td>\n",
              "      <td>14.410000</td>\n",
              "      <td>15.7400</td>\n",
              "      <td>1.191753</td>\n",
              "    </tr>\n",
              "    <tr>\n",
              "      <th>2288</th>\n",
              "      <td>2730.129883</td>\n",
              "      <td>14.380000</td>\n",
              "      <td>15.5600</td>\n",
              "      <td>1.193118</td>\n",
              "    </tr>\n",
              "    <tr>\n",
              "      <th>2289</th>\n",
              "      <td>2725.780029</td>\n",
              "      <td>14.405800</td>\n",
              "      <td>15.4542</td>\n",
              "      <td>1.182033</td>\n",
              "    </tr>\n",
              "  </tbody>\n",
              "</table>\n",
              "<p>2290 rows × 4 columns</p>\n",
              "</div>"
            ],
            "text/plain": [
              "              SPX        USO      SLV   EUR/USD\n",
              "0     1447.160034  78.470001  15.1800  1.471692\n",
              "1     1447.160034  78.370003  15.2850  1.474491\n",
              "2     1411.630005  77.309998  15.1670  1.475492\n",
              "3     1416.180054  75.500000  15.0530  1.468299\n",
              "4     1390.189941  76.059998  15.5900  1.557099\n",
              "...           ...        ...      ...       ...\n",
              "2285  2671.919922  14.060000  15.5100  1.186789\n",
              "2286  2697.790039  14.370000  15.5300  1.184722\n",
              "2287  2723.070068  14.410000  15.7400  1.191753\n",
              "2288  2730.129883  14.380000  15.5600  1.193118\n",
              "2289  2725.780029  14.405800  15.4542  1.182033\n",
              "\n",
              "[2290 rows x 4 columns]"
            ]
          },
          "metadata": {
            "tags": []
          },
          "execution_count": 58
        }
      ]
    },
    {
      "cell_type": "code",
      "metadata": {
        "colab": {
          "base_uri": "https://localhost:8080/"
        },
        "id": "O40eKN8laoJ2",
        "outputId": "937c8a1a-1960-4fcf-9cea-e68ebe5b3b1a"
      },
      "source": [
        "y"
      ],
      "execution_count": 59,
      "outputs": [
        {
          "output_type": "execute_result",
          "data": {
            "text/plain": [
              "0        84.860001\n",
              "1        85.570000\n",
              "2        85.129997\n",
              "3        84.769997\n",
              "4        86.779999\n",
              "           ...    \n",
              "2285    124.589996\n",
              "2286    124.330002\n",
              "2287    125.180000\n",
              "2288    124.489998\n",
              "2289    122.543800\n",
              "Name: GLD, Length: 2290, dtype: float64"
            ]
          },
          "metadata": {
            "tags": []
          },
          "execution_count": 59
        }
      ]
    },
    {
      "cell_type": "code",
      "metadata": {
        "id": "weCU32eCaz5V"
      },
      "source": [
        "X_train, X_test, y_train, y_test = train_test_split(X,y, test_size =0.2,random_state = 2)"
      ],
      "execution_count": 60,
      "outputs": []
    },
    {
      "cell_type": "markdown",
      "metadata": {
        "id": "2jBVXWR5bbIe"
      },
      "source": [
        "Model Training : Random Forest **Regressor**"
      ]
    },
    {
      "cell_type": "code",
      "metadata": {
        "id": "qNY6PAvMaz73"
      },
      "source": [
        " regressor = RandomForestRegressor(n_estimators=100)"
      ],
      "execution_count": 61,
      "outputs": []
    },
    {
      "cell_type": "code",
      "metadata": {
        "colab": {
          "base_uri": "https://localhost:8080/"
        },
        "id": "veH2Iz4aaz-c",
        "outputId": "68483f7a-ac71-409a-8a8e-43a3df12df36"
      },
      "source": [
        "regressor.fit(X_train, y_train)"
      ],
      "execution_count": 62,
      "outputs": [
        {
          "output_type": "execute_result",
          "data": {
            "text/plain": [
              "RandomForestRegressor(bootstrap=True, ccp_alpha=0.0, criterion='mse',\n",
              "                      max_depth=None, max_features='auto', max_leaf_nodes=None,\n",
              "                      max_samples=None, min_impurity_decrease=0.0,\n",
              "                      min_impurity_split=None, min_samples_leaf=1,\n",
              "                      min_samples_split=2, min_weight_fraction_leaf=0.0,\n",
              "                      n_estimators=100, n_jobs=None, oob_score=False,\n",
              "                      random_state=None, verbose=0, warm_start=False)"
            ]
          },
          "metadata": {
            "tags": []
          },
          "execution_count": 62
        }
      ]
    },
    {
      "cell_type": "markdown",
      "metadata": {
        "id": "Lmio_GG0cvKg"
      },
      "source": [
        "Model Evaluation"
      ]
    },
    {
      "cell_type": "code",
      "metadata": {
        "id": "sLDOKV72a0BQ"
      },
      "source": [
        " test_data_prediction = regressor.predict(X_test)"
      ],
      "execution_count": 63,
      "outputs": []
    },
    {
      "cell_type": "code",
      "metadata": {
        "colab": {
          "base_uri": "https://localhost:8080/"
        },
        "id": "AYdr3BjKa0Eq",
        "outputId": "7f55ec75-076a-4a84-d0bc-52c77efb2c52"
      },
      "source": [
        "print(test_data_prediction)"
      ],
      "execution_count": 64,
      "outputs": [
        {
          "output_type": "stream",
          "text": [
            "[168.4370993   81.93800005 116.10210059 127.60510084 120.74990134\n",
            " 154.6766974  150.50619867 126.14920019 117.5062987  125.97170073\n",
            " 116.97110064 171.92710037 140.75439856 167.7924986  115.34539995\n",
            " 117.68190032 138.68020326 170.0161004  160.20060297 159.41469933\n",
            " 155.10040033 125.04130001 176.04069973 157.28080343 125.27800042\n",
            "  93.84419992  77.20290055 120.59610024 119.06899959 167.37390022\n",
            "  88.28060036 125.2769999   91.07420054 117.74000033 121.15819938\n",
            " 136.84010103 115.27990139 114.92840041 148.97389984 107.29530101\n",
            " 104.47940248  87.18959794 126.65800079 117.97420021 154.37199908\n",
            " 119.78869987 108.67000022 108.23059839  93.15020066 127.05329791\n",
            "  75.46990013 113.6479993  121.12100046 111.23089924 119.05539911\n",
            " 120.55139958 158.78889995 166.80910109 147.16899703  85.67149854\n",
            "  94.31700044  86.81999899  90.53840044 119.01240095 126.36330068\n",
            " 127.52160027 170.18450009 122.15799929 117.56889896  98.42730069\n",
            " 167.95580158 143.31329869 132.23460235 121.08580224 121.18589901\n",
            " 119.71120047 114.44300166 118.18970046 107.29530104 127.92080081\n",
            " 113.72959977 107.51109985 117.13580042 119.6336986   89.17720021\n",
            "  88.22289843 146.87140183 127.12080075 113.00430066 110.29259819\n",
            " 108.03999889  77.173099   169.61130203 114.07569923 121.71049919\n",
            " 127.99160168 155.02279822  91.92849984 136.32550124 158.60760281\n",
            " 125.8366009  125.42850063 130.72480242 114.72860128 119.87539993\n",
            "  92.06760017 110.29949891 168.3422996  157.86109863 114.20269975\n",
            " 106.64490127  79.81969996 113.20260075 125.87270075 107.10779932\n",
            " 119.22920097 155.28690334 159.76579824 120.45050005 135.0240028\n",
            " 101.02140002 117.42569784 119.34000049 113.00380094 102.73499911\n",
            " 160.38569764  98.95290039 147.03629874 125.69070119 169.4394002\n",
            " 125.40429887 127.45109729 127.29700159 113.87729927 112.58390063\n",
            " 123.58579934 102.22019906  89.29569981 124.54679929 101.46069932\n",
            " 107.02699895 113.82080034 117.23060081  99.09699958 121.61690028\n",
            " 162.89539874  87.44539848 106.82110004 117.20120087 127.71450119\n",
            " 124.04850061  80.85829924 120.40610045 158.22289801  87.89619995\n",
            " 110.32409929 118.81419925 172.30189902 102.92899903 105.59710011\n",
            " 122.52189995 158.98109759  87.77349819  93.02280057 112.8122005\n",
            " 177.22169989 114.62989962 119.37540029  94.44730063 125.88450065\n",
            " 166.33780015 114.73270084 116.50440156  88.32519855 148.86210097\n",
            " 120.40739956  89.48879988 112.11739996 117.25430054 118.80880111\n",
            "  88.32869963  94.09709973 117.08989976 118.45480217 120.30050082\n",
            " 126.80279797 121.95859994 149.68290093 165.27149968 118.62209962\n",
            " 120.49920113 151.20730032 118.5487993  172.88169852 105.41409952\n",
            " 104.93080085 149.54830076 113.75890077 124.81380098 147.67730048\n",
            " 119.59300119 115.21730049 112.15299998 113.59980161 139.15330112\n",
            " 117.93139776 102.82440025 115.82870118 103.72020166  98.73550037\n",
            " 117.38030085  90.62989984  91.47910043 153.41339895 102.73269979\n",
            " 154.58820089 114.29500127 139.02240112  90.19149821 115.59829943\n",
            " 114.42490006 123.55380006 121.90800026 165.41590145  92.87609954\n",
            " 135.76050123 121.30359931 120.86070074 104.56260013 142.4515026\n",
            " 121.683899   116.69790055 113.51590072 127.26839746 122.51609952\n",
            " 125.89479933 121.22230045  86.87819945 132.3580016  143.63120208\n",
            "  92.63259949 156.70319966 159.01150304 126.57969813 165.40409917\n",
            " 108.85749998 109.71190108 103.71069814  94.38270041 127.79050295\n",
            " 107.32820045 159.82909918 121.67510011 132.04500029 130.75260226\n",
            " 159.13809935  90.25939881 174.63850137 127.27530016 126.87889859\n",
            "  86.34079952 124.60329952 150.04279732  89.60970003 106.9754001\n",
            " 109.0673      84.29479915 135.89659983 155.00880309 139.4650034\n",
            "  73.94970025 152.08630079 125.95149926 126.75939962 127.39869911\n",
            " 108.64219953 156.45799997 114.44470125 116.83340129 125.18099914\n",
            " 153.9935017  121.56029981 156.31959875  92.84210045 125.505701\n",
            " 125.85260045  87.94910044  92.01979926 126.33099924 127.97970293\n",
            " 113.31790058 117.61929751 120.90390026 127.21299851 119.85530101\n",
            " 136.73970063  93.92329971 119.57990034 113.27130094  94.2978994\n",
            " 108.97899929  87.57229943 108.87389952  89.51019989  92.38749989\n",
            " 131.57660354 162.44550076  89.22110012 119.779201   133.08100193\n",
            " 123.89010002 128.23620129 102.12999865  88.87029876 131.5479006\n",
            " 119.99570019 108.73670013 167.38290133 115.22100048  86.62569949\n",
            " 118.7327009   91.05749978 162.27539924 116.32330039 121.36399984\n",
            " 160.19769774 120.28139906 112.83159907 108.45709846 126.5934004\n",
            "  76.3987001  103.00799977 127.66170268 121.91729923  92.57649957\n",
            " 131.94129988 118.12580111 116.12100008 154.34670298 159.93840073\n",
            " 109.72209972 156.64439833 119.27660095 160.79480107 118.88390037\n",
            " 158.16879875 115.14909924 116.54900037 148.24869831 114.80540077\n",
            " 125.91209852 165.63279968 117.72970025 125.12129908 153.23140342\n",
            " 153.35870233 132.11700069 114.80430029 121.13570225 125.05540096\n",
            "  89.76930032 122.80920044 154.78910213 111.5426     106.6524\n",
            " 161.97100084 118.37499978 165.65219936 134.06530082 115.2490999\n",
            " 153.01629909 168.81710038 114.68770031 114.03630104 156.95459905\n",
            "  85.01579921 127.01650055 127.9925     128.8146999  124.20850059\n",
            " 123.98930113  90.64750056 153.13009997  97.09879977 137.37109941\n",
            "  89.16129939 107.4413999  115.03920071 112.69710109 123.61119919\n",
            "  91.49719881 125.40120144 162.53049955 120.09709876 165.08190106\n",
            " 126.7476977  112.24810005 127.45839955  94.954699    90.9770001\n",
            " 103.1800991  120.85080019  83.24839945 126.30069999 161.19580469\n",
            " 117.18450048 118.22609989 119.88340029 122.60529949 119.95130135\n",
            " 121.40980017 118.04500039 107.01489986 148.37660027 126.03809866\n",
            " 115.6801009   74.25170007 127.7316007  153.93590096 122.27560008\n",
            " 125.64770059  88.8506002  103.12259859 124.67350048 120.17820033\n",
            "  73.46230078 151.92069986 121.21570085 104.84839999  85.87559786\n",
            " 115.27189927 172.1691988  119.95760017 159.93059795 113.17909945\n",
            " 121.09570031 118.49160114  95.9945999  118.66600039 125.81100064\n",
            " 118.62369967  95.91840112 153.60640184 121.78699981 147.30569988\n",
            " 158.87010186 113.83420056 122.38569946 149.84149773 126.76790034\n",
            " 165.63810031 135.7084001  119.98400023 167.36399865 108.42289914\n",
            " 121.77079856 137.35420077 107.05969898]\n"
          ],
          "name": "stdout"
        }
      ]
    },
    {
      "cell_type": "code",
      "metadata": {
        "id": "68ucAt8Pa0JW"
      },
      "source": [
        "error_score = metrics.r2_score(y_test,  test_data_prediction)"
      ],
      "execution_count": 66,
      "outputs": []
    },
    {
      "cell_type": "code",
      "metadata": {
        "colab": {
          "base_uri": "https://localhost:8080/"
        },
        "id": "IRYT7dL9dJRX",
        "outputId": "602f47dd-eb10-480d-bed0-7e735c250772"
      },
      "source": [
        "error_score"
      ],
      "execution_count": 67,
      "outputs": [
        {
          "output_type": "execute_result",
          "data": {
            "text/plain": [
              "0.9892259198904545"
            ]
          },
          "metadata": {
            "tags": []
          },
          "execution_count": 67
        }
      ]
    },
    {
      "cell_type": "code",
      "metadata": {
        "id": "hRWgPltUdjQs"
      },
      "source": [
        "test = (1447.160034,78.470001,15.1800,1.471692)\n",
        "testasarray = np.asarray(test)\n",
        "reshape_testasarray = testasarray.reshape(1,-1)"
      ],
      "execution_count": 100,
      "outputs": []
    },
    {
      "cell_type": "code",
      "metadata": {
        "colab": {
          "base_uri": "https://localhost:8080/"
        },
        "id": "8idzmUJedjTA",
        "outputId": "ed5a3a7a-b32d-47d7-875a-aa86f3dd5b4c"
      },
      "source": [
        "regressor.predict(reshape_testasarray)"
      ],
      "execution_count": 101,
      "outputs": [
        {
          "output_type": "execute_result",
          "data": {
            "text/plain": [
              "array([84.94229981])"
            ]
          },
          "metadata": {
            "tags": []
          },
          "execution_count": 101
        }
      ]
    },
    {
      "cell_type": "code",
      "metadata": {
        "id": "0Ysflu55djU8"
      },
      "source": [
        "y_test = list(y_test)"
      ],
      "execution_count": 88,
      "outputs": []
    },
    {
      "cell_type": "code",
      "metadata": {
        "colab": {
          "base_uri": "https://localhost:8080/",
          "height": 295
        },
        "id": "9Q7rHmoKdjZe",
        "outputId": "c8ef8782-2fa1-4071-e930-bfdad1996d0c"
      },
      "source": [
        "plt.plot(y_test, color = 'green', label = 'Actual Values')\n",
        "plt.plot(test_data_prediction, color = 'red', label = 'Predicted Values')\n",
        "plt.title('Actual vs Prediction')\n",
        "plt.xlabel('No.of Values')\n",
        "plt.ylabel('Gold Price')\n",
        "plt.legend()\n",
        "plt.show()"
      ],
      "execution_count": 89,
      "outputs": [
        {
          "output_type": "display_data",
          "data": {
            "image/png": "[encoded data removed]",
            "text/plain": [
              "<Figure size 432x288 with 1 Axes>"
            ]
          },
          "metadata": {
            "tags": [],
            "needs_background": "light"
          }
        }
      ]
    }
  ]
}